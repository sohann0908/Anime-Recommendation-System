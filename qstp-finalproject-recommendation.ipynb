{
 "cells": [
  {
   "cell_type": "markdown",
   "id": "3d7a4421",
   "metadata": {
    "papermill": {
     "duration": 0.036447,
     "end_time": "2021-08-20T14:10:50.337654",
     "exception": false,
     "start_time": "2021-08-20T14:10:50.301207",
     "status": "completed"
    },
    "tags": []
   },
   "source": [
    "# 1. Importing Libraries"
   ]
  },
  {
   "cell_type": "code",
   "execution_count": 1,
   "id": "01b76579",
   "metadata": {
    "execution": {
     "iopub.execute_input": "2021-08-20T14:10:50.435213Z",
     "iopub.status.busy": "2021-08-20T14:10:50.434265Z",
     "iopub.status.idle": "2021-08-20T14:10:51.674732Z",
     "shell.execute_reply": "2021-08-20T14:10:51.673902Z",
     "shell.execute_reply.started": "2021-08-20T14:05:38.164884Z"
    },
    "papermill": {
     "duration": 1.298869,
     "end_time": "2021-08-20T14:10:51.674889",
     "exception": false,
     "start_time": "2021-08-20T14:10:50.376020",
     "status": "completed"
    },
    "tags": []
   },
   "outputs": [],
   "source": [
    "import os \n",
    "import pandas as pd\n",
    "import seaborn as sns\n",
    "import numpy as np\n",
    "\n",
    "from sklearn.cluster import KMeans\n",
    "from sklearn.metrics import silhouette_score\n",
    "from sklearn.preprocessing import LabelBinarizer, MultiLabelBinarizer, MinMaxScaler\n",
    "from sklearn.feature_extraction.text import TfidfVectorizer\n",
    "from sklearn.neighbors import NearestNeighbors\n",
    "from scipy.sparse import csr_matrix\n",
    "from sklearn.decomposition import PCA\n",
    "\n",
    "\n"
   ]
  },
  {
   "cell_type": "markdown",
   "id": "69f5c7b1",
   "metadata": {
    "papermill": {
     "duration": 0.036004,
     "end_time": "2021-08-20T14:10:51.746379",
     "exception": false,
     "start_time": "2021-08-20T14:10:51.710375",
     "status": "completed"
    },
    "tags": []
   },
   "source": [
    "* #### Loading Datasets"
   ]
  },
  {
   "cell_type": "code",
   "execution_count": 2,
   "id": "c0582d4d",
   "metadata": {
    "execution": {
     "iopub.execute_input": "2021-08-20T14:10:51.824023Z",
     "iopub.status.busy": "2021-08-20T14:10:51.823381Z",
     "iopub.status.idle": "2021-08-20T14:11:21.573585Z",
     "shell.execute_reply": "2021-08-20T14:11:21.572876Z",
     "shell.execute_reply.started": "2021-08-20T14:05:38.305315Z"
    },
    "papermill": {
     "duration": 29.792164,
     "end_time": "2021-08-20T14:11:21.573725",
     "exception": false,
     "start_time": "2021-08-20T14:10:51.781561",
     "status": "completed"
    },
    "tags": []
   },
   "outputs": [],
   "source": [
    "usecols = [\"MAL_ID\", \"Name\", \"Score\", \"Genres\", \"Type\", \"Episodes\", \"Premiered\",\n",
    "           \"Studios\", \"Source\", \"Rating\", \"Members\"]\n",
    "anime_recom =pd.read_csv('../input/anime-recommendation-database-2020/anime.csv',usecols=usecols)\n",
    "rating_data = pd.read_csv('../input/anime-recommendation-database-2020/rating_complete.csv')\n",
    "anime = pd.read_csv('../input/anime-recommendation-database-2020/anime.csv',low_memory=True)"
   ]
  },
  {
   "cell_type": "code",
   "execution_count": 3,
   "id": "9ca17f00",
   "metadata": {
    "execution": {
     "iopub.execute_input": "2021-08-20T14:11:21.656795Z",
     "iopub.status.busy": "2021-08-20T14:11:21.655796Z",
     "iopub.status.idle": "2021-08-20T14:11:21.658725Z",
     "shell.execute_reply": "2021-08-20T14:11:21.658206Z",
     "shell.execute_reply.started": "2021-08-20T14:06:02.004763Z"
    },
    "papermill": {
     "duration": 0.049979,
     "end_time": "2021-08-20T14:11:21.658864",
     "exception": false,
     "start_time": "2021-08-20T14:11:21.608885",
     "status": "completed"
    },
    "tags": []
   },
   "outputs": [],
   "source": [
    "anime.rename(columns = {'MAL_ID':'anime_id'},inplace=True)\n",
    "rating_data.rename(columns = {'MAL_ID':'anime_id'},inplace=True)"
   ]
  },
  {
   "cell_type": "markdown",
   "id": "ddf7574a",
   "metadata": {
    "papermill": {
     "duration": 0.035321,
     "end_time": "2021-08-20T14:11:21.729992",
     "exception": false,
     "start_time": "2021-08-20T14:11:21.694671",
     "status": "completed"
    },
    "tags": []
   },
   "source": [
    "# 2. Recommendation"
   ]
  },
  {
   "cell_type": "markdown",
   "id": "5a2c0b5e",
   "metadata": {
    "papermill": {
     "duration": 0.034707,
     "end_time": "2021-08-20T14:11:21.800006",
     "exception": false,
     "start_time": "2021-08-20T14:11:21.765299",
     "status": "completed"
    },
    "tags": []
   },
   "source": [
    "* #### Function to remove Unknown values from Columns"
   ]
  },
  {
   "cell_type": "code",
   "execution_count": 4,
   "id": "f58853c6",
   "metadata": {
    "execution": {
     "iopub.execute_input": "2021-08-20T14:11:22.009859Z",
     "iopub.status.busy": "2021-08-20T14:11:22.004489Z",
     "iopub.status.idle": "2021-08-20T14:11:22.050443Z",
     "shell.execute_reply": "2021-08-20T14:11:22.050976Z",
     "shell.execute_reply.started": "2021-08-20T14:06:02.014632Z"
    },
    "papermill": {
     "duration": 0.215617,
     "end_time": "2021-08-20T14:11:22.051139",
     "exception": false,
     "start_time": "2021-08-20T14:11:21.835522",
     "status": "completed"
    },
    "tags": []
   },
   "outputs": [
    {
     "data": {
      "text/html": [
       "<div>\n",
       "<style scoped>\n",
       "    .dataframe tbody tr th:only-of-type {\n",
       "        vertical-align: middle;\n",
       "    }\n",
       "\n",
       "    .dataframe tbody tr th {\n",
       "        vertical-align: top;\n",
       "    }\n",
       "\n",
       "    .dataframe thead th {\n",
       "        text-align: right;\n",
       "    }\n",
       "</style>\n",
       "<table border=\"1\" class=\"dataframe\">\n",
       "  <thead>\n",
       "    <tr style=\"text-align: right;\">\n",
       "      <th></th>\n",
       "      <th>MAL_ID</th>\n",
       "      <th>Name</th>\n",
       "      <th>Score</th>\n",
       "      <th>Genres</th>\n",
       "      <th>Type</th>\n",
       "      <th>Episodes</th>\n",
       "      <th>Premiered</th>\n",
       "      <th>Studios</th>\n",
       "      <th>Source</th>\n",
       "      <th>Rating</th>\n",
       "      <th>Members</th>\n",
       "    </tr>\n",
       "  </thead>\n",
       "  <tbody>\n",
       "    <tr>\n",
       "      <th>0</th>\n",
       "      <td>1</td>\n",
       "      <td>Cowboy Bebop</td>\n",
       "      <td>8.78</td>\n",
       "      <td>[Action,  Adventure,  Comedy,  Drama,  Sci-Fi,...</td>\n",
       "      <td>TV</td>\n",
       "      <td>26</td>\n",
       "      <td>Spring 1998</td>\n",
       "      <td>[Sunrise]</td>\n",
       "      <td>Original</td>\n",
       "      <td>R - 17+ (violence &amp; profanity)</td>\n",
       "      <td>1251960</td>\n",
       "    </tr>\n",
       "    <tr>\n",
       "      <th>1</th>\n",
       "      <td>5</td>\n",
       "      <td>Cowboy Bebop: Tengoku no Tobira</td>\n",
       "      <td>8.39</td>\n",
       "      <td>[Action,  Drama,  Mystery,  Sci-Fi,  Space]</td>\n",
       "      <td>Movie</td>\n",
       "      <td>1</td>\n",
       "      <td>Unknown</td>\n",
       "      <td>[Bones]</td>\n",
       "      <td>Original</td>\n",
       "      <td>R - 17+ (violence &amp; profanity)</td>\n",
       "      <td>273145</td>\n",
       "    </tr>\n",
       "    <tr>\n",
       "      <th>2</th>\n",
       "      <td>6</td>\n",
       "      <td>Trigun</td>\n",
       "      <td>8.24</td>\n",
       "      <td>[Action,  Sci-Fi,  Adventure,  Comedy,  Drama,...</td>\n",
       "      <td>TV</td>\n",
       "      <td>26</td>\n",
       "      <td>Spring 1998</td>\n",
       "      <td>[Madhouse]</td>\n",
       "      <td>Manga</td>\n",
       "      <td>PG-13 - Teens 13 or older</td>\n",
       "      <td>558913</td>\n",
       "    </tr>\n",
       "    <tr>\n",
       "      <th>3</th>\n",
       "      <td>7</td>\n",
       "      <td>Witch Hunter Robin</td>\n",
       "      <td>7.27</td>\n",
       "      <td>[Action,  Mystery,  Police,  Supernatural,  Dr...</td>\n",
       "      <td>TV</td>\n",
       "      <td>26</td>\n",
       "      <td>Summer 2002</td>\n",
       "      <td>[Sunrise]</td>\n",
       "      <td>Original</td>\n",
       "      <td>PG-13 - Teens 13 or older</td>\n",
       "      <td>94683</td>\n",
       "    </tr>\n",
       "    <tr>\n",
       "      <th>4</th>\n",
       "      <td>8</td>\n",
       "      <td>Bouken Ou Beet</td>\n",
       "      <td>6.98</td>\n",
       "      <td>[Adventure,  Fantasy,  Shounen,  Supernatural]</td>\n",
       "      <td>TV</td>\n",
       "      <td>52</td>\n",
       "      <td>Fall 2004</td>\n",
       "      <td>[Toei Animation]</td>\n",
       "      <td>Manga</td>\n",
       "      <td>PG - Children</td>\n",
       "      <td>13224</td>\n",
       "    </tr>\n",
       "  </tbody>\n",
       "</table>\n",
       "</div>"
      ],
      "text/plain": [
       "   MAL_ID                             Name  Score  \\\n",
       "0       1                     Cowboy Bebop   8.78   \n",
       "1       5  Cowboy Bebop: Tengoku no Tobira   8.39   \n",
       "2       6                           Trigun   8.24   \n",
       "3       7               Witch Hunter Robin   7.27   \n",
       "4       8                   Bouken Ou Beet   6.98   \n",
       "\n",
       "                                              Genres   Type  Episodes  \\\n",
       "0  [Action,  Adventure,  Comedy,  Drama,  Sci-Fi,...     TV        26   \n",
       "1        [Action,  Drama,  Mystery,  Sci-Fi,  Space]  Movie         1   \n",
       "2  [Action,  Sci-Fi,  Adventure,  Comedy,  Drama,...     TV        26   \n",
       "3  [Action,  Mystery,  Police,  Supernatural,  Dr...     TV        26   \n",
       "4     [Adventure,  Fantasy,  Shounen,  Supernatural]     TV        52   \n",
       "\n",
       "     Premiered           Studios    Source                          Rating  \\\n",
       "0  Spring 1998         [Sunrise]  Original  R - 17+ (violence & profanity)   \n",
       "1      Unknown           [Bones]  Original  R - 17+ (violence & profanity)   \n",
       "2  Spring 1998        [Madhouse]     Manga       PG-13 - Teens 13 or older   \n",
       "3  Summer 2002         [Sunrise]  Original       PG-13 - Teens 13 or older   \n",
       "4    Fall 2004  [Toei Animation]     Manga                   PG - Children   \n",
       "\n",
       "   Members  \n",
       "0  1251960  \n",
       "1   273145  \n",
       "2   558913  \n",
       "3    94683  \n",
       "4    13224  "
      ]
     },
     "execution_count": 4,
     "metadata": {},
     "output_type": "execute_result"
    }
   ],
   "source": [
    "def process_multilabel(series):\n",
    "    series = series.split(\",\")\n",
    "    if \"Unknown\" in series:\n",
    "        series.remove(\"Unknown\")\n",
    "    return series\n",
    "\n",
    "anime_recom[\"Genres\"] = anime_recom[\"Genres\"].map(process_multilabel)\n",
    "anime_recom[\"Studios\"] = anime_recom[\"Studios\"].map(process_multilabel)\n",
    "anime_recom[\"Score\"] = anime_recom[\"Score\"].replace(\"Unknown\", 0).astype(float)\n",
    "anime_recom[\"Episodes\"] = anime_recom[\"Episodes\"].replace(\"Unknown\", 0).astype(int)\n",
    "anime_recom.head()"
   ]
  },
  {
   "cell_type": "markdown",
   "id": "1d89d372",
   "metadata": {
    "papermill": {
     "duration": 0.035473,
     "end_time": "2021-08-20T14:11:22.122673",
     "exception": false,
     "start_time": "2021-08-20T14:11:22.087200",
     "status": "completed"
    },
    "tags": []
   },
   "source": [
    "### 2.1 Feature Extraction and Feature Engineering"
   ]
  },
  {
   "cell_type": "code",
   "execution_count": 5,
   "id": "419b4825",
   "metadata": {
    "execution": {
     "iopub.execute_input": "2021-08-20T14:11:22.203870Z",
     "iopub.status.busy": "2021-08-20T14:11:22.203200Z",
     "iopub.status.idle": "2021-08-20T14:11:23.686670Z",
     "shell.execute_reply": "2021-08-20T14:11:23.686132Z",
     "shell.execute_reply.started": "2021-08-20T14:06:02.240678Z"
    },
    "papermill": {
     "duration": 1.528149,
     "end_time": "2021-08-20T14:11:23.686820",
     "exception": false,
     "start_time": "2021-08-20T14:11:22.158671",
     "status": "completed"
    },
    "tags": []
   },
   "outputs": [],
   "source": [
    "def preprocessing_category(df, column, is_multilabel=False):\n",
    "    \n",
    "    # Binarise labels\n",
    "    lb = LabelBinarizer()\n",
    "    if is_multilabel:\n",
    "        lb = MultiLabelBinarizer()\n",
    "\n",
    "    expandedLabelData = lb.fit_transform(df[column])\n",
    "    labelClasses = lb.classes_\n",
    "\n",
    "    # Create a pandas.DataFrame from our output\n",
    "    category_df = pd.DataFrame(expandedLabelData, columns=labelClasses)\n",
    "    del df[column]\n",
    "    return pd.concat([df, category_df], axis=1)\n",
    "\n",
    "anime_metadata = anime_recom.copy()\n",
    "anime_metadata = preprocessing_category(anime_metadata, \"Type\")\n",
    "anime_metadata = preprocessing_category(anime_metadata, \"Premiered\")\n",
    "anime_metadata = preprocessing_category(anime_metadata, \"Studios\", is_multilabel=True)\n",
    "anime_metadata = preprocessing_category(anime_metadata, \"Source\")\n",
    "anime_metadata = preprocessing_category(anime_metadata, \"Rating\")\n",
    "\n",
    "Genres = anime_metadata[\"Genres\"]\n",
    "ID_NAME = anime_metadata[[\"MAL_ID\", \"Name\"]]\n",
    "\n",
    "#Deleting Repeated Columns from the Dataframe\n",
    "del anime_metadata[\"Genres\"]\n",
    "del anime_metadata[\"MAL_ID\"]\n",
    "del anime_metadata[\"Name\"]\n",
    "del anime_metadata[\"Unknown\"]"
   ]
  },
  {
   "cell_type": "markdown",
   "id": "64423dec",
   "metadata": {
    "papermill": {
     "duration": 0.035361,
     "end_time": "2021-08-20T14:11:23.758413",
     "exception": false,
     "start_time": "2021-08-20T14:11:23.723052",
     "status": "completed"
    },
    "tags": []
   },
   "source": [
    "#### 2.2 Normalization\n"
   ]
  },
  {
   "cell_type": "code",
   "execution_count": 6,
   "id": "db9f12be",
   "metadata": {
    "execution": {
     "iopub.execute_input": "2021-08-20T14:11:23.838791Z",
     "iopub.status.busy": "2021-08-20T14:11:23.838144Z",
     "iopub.status.idle": "2021-08-20T14:11:24.023225Z",
     "shell.execute_reply": "2021-08-20T14:11:24.023860Z",
     "shell.execute_reply.started": "2021-08-20T14:06:04.253017Z"
    },
    "papermill": {
     "duration": 0.229761,
     "end_time": "2021-08-20T14:11:24.024064",
     "exception": false,
     "start_time": "2021-08-20T14:11:23.794303",
     "status": "completed"
    },
    "tags": []
   },
   "outputs": [],
   "source": [
    "anime_metadata[[\"Score\", \"Episodes\", \"Members\"]] = MinMaxScaler().fit_transform(anime_metadata[[\"Score\", \"Episodes\", \"Members\"]])\n",
    "anime_metadata = anime_metadata.values"
   ]
  },
  {
   "cell_type": "markdown",
   "id": "3bb47cf9",
   "metadata": {
    "papermill": {
     "duration": 0.035725,
     "end_time": "2021-08-20T14:11:24.096149",
     "exception": false,
     "start_time": "2021-08-20T14:11:24.060424",
     "status": "completed"
    },
    "tags": []
   },
   "source": [
    "* #### Extracting  Keywords from the Dataframe"
   ]
  },
  {
   "cell_type": "code",
   "execution_count": 7,
   "id": "4b8cca14",
   "metadata": {
    "execution": {
     "iopub.execute_input": "2021-08-20T14:11:24.217911Z",
     "iopub.status.busy": "2021-08-20T14:11:24.207707Z",
     "iopub.status.idle": "2021-08-20T14:11:24.537103Z",
     "shell.execute_reply": "2021-08-20T14:11:24.536530Z",
     "shell.execute_reply.started": "2021-08-20T14:06:04.455627Z"
    },
    "papermill": {
     "duration": 0.405467,
     "end_time": "2021-08-20T14:11:24.537244",
     "exception": false,
     "start_time": "2021-08-20T14:11:24.131777",
     "status": "completed"
    },
    "tags": []
   },
   "outputs": [],
   "source": [
    "from sklearn.feature_extraction.text import TfidfVectorizer\n",
    "\n",
    "tfv = TfidfVectorizer(min_df=3,  max_features=None, \n",
    "            strip_accents='unicode', analyzer='word',token_pattern=r'\\w{1,}',\n",
    "            ngram_range=(1, 3),\n",
    "            stop_words = 'english')\n",
    "\n",
    "# Filling NaNs with empty string\n",
    "genres_original = anime_recom['Genres'].fillna('').astype(str)\n",
    "genres_vector_tf_idf = tfv.fit_transform(genres_original)\n",
    "\n",
    "genres_vector_one_hot = preprocessing_category(pd.DataFrame(Genres), \"Genres\", True).values"
   ]
  },
  {
   "cell_type": "code",
   "execution_count": 8,
   "id": "f796c3f7",
   "metadata": {
    "execution": {
     "iopub.execute_input": "2021-08-20T14:11:24.614586Z",
     "iopub.status.busy": "2021-08-20T14:11:24.613693Z",
     "iopub.status.idle": "2021-08-20T14:11:24.617128Z",
     "shell.execute_reply": "2021-08-20T14:11:24.617856Z",
     "shell.execute_reply.started": "2021-08-20T14:06:04.846089Z"
    },
    "papermill": {
     "duration": 0.044865,
     "end_time": "2021-08-20T14:11:24.618075",
     "exception": false,
     "start_time": "2021-08-20T14:11:24.573210",
     "status": "completed"
    },
    "tags": []
   },
   "outputs": [
    {
     "name": "stdout",
     "output_type": "stream",
     "text": [
      "anime_metadata.shape: (17562, 1208)\n",
      "genres_vector_tf_idf.shape: (17562, 2282)\n",
      "genres_vector_one_hot.shape: (17562, 83)\n"
     ]
    }
   ],
   "source": [
    "print(\"anime_metadata.shape:\", anime_metadata.shape)\n",
    "print(\"genres_vector_tf_idf.shape:\", genres_vector_tf_idf.shape)\n",
    "print(\"genres_vector_one_hot.shape:\", genres_vector_one_hot.shape)"
   ]
  },
  {
   "cell_type": "markdown",
   "id": "b2f6d107",
   "metadata": {
    "papermill": {
     "duration": 0.035779,
     "end_time": "2021-08-20T14:11:24.691115",
     "exception": false,
     "start_time": "2021-08-20T14:11:24.655336",
     "status": "completed"
    },
    "tags": []
   },
   "source": [
    "# 3.1.  Content Based Recommendation using KNN"
   ]
  },
  {
   "cell_type": "markdown",
   "id": "cec266b1",
   "metadata": {
    "papermill": {
     "duration": 0.035995,
     "end_time": "2021-08-20T14:11:24.763329",
     "exception": false,
     "start_time": "2021-08-20T14:11:24.727334",
     "status": "completed"
    },
    "tags": []
   },
   "source": [
    "* #### Creating a Recommendation function using KNN Model"
   ]
  },
  {
   "cell_type": "code",
   "execution_count": 9,
   "id": "3aac19fc",
   "metadata": {
    "execution": {
     "iopub.execute_input": "2021-08-20T14:11:24.843097Z",
     "iopub.status.busy": "2021-08-20T14:11:24.842488Z",
     "iopub.status.idle": "2021-08-20T14:11:24.844475Z",
     "shell.execute_reply": "2021-08-20T14:11:24.845280Z",
     "shell.execute_reply.started": "2021-08-20T14:06:04.857009Z"
    },
    "papermill": {
     "duration": 0.04627,
     "end_time": "2021-08-20T14:11:24.845529",
     "exception": false,
     "start_time": "2021-08-20T14:11:24.799259",
     "status": "completed"
    },
    "tags": []
   },
   "outputs": [],
   "source": [
    "def get_recommended(vector, query_index, n_neighbors=10):\n",
    "    model_knn = NearestNeighbors(metric='cosine', n_neighbors=n_neighbors)\n",
    "    model_knn.fit(csr_matrix(vector))\n",
    "\n",
    "    distances, indices = model_knn.kneighbors(vector[query_index,:].reshape(1, -1), n_neighbors = n_neighbors)\n",
    "    result = []\n",
    "    for i in range(0, len(distances.flatten())):\n",
    "        index = indices.flatten()[i]\n",
    "        if index == query_index:\n",
    "            continue\n",
    "        result.append(anime_recom.iloc[index])\n",
    "        \n",
    "    return pd.DataFrame(result)"
   ]
  },
  {
   "cell_type": "markdown",
   "id": "27c8da99",
   "metadata": {
    "papermill": {
     "duration": 0.046123,
     "end_time": "2021-08-20T14:11:24.936201",
     "exception": false,
     "start_time": "2021-08-20T14:11:24.890078",
     "status": "completed"
    },
    "tags": []
   },
   "source": [
    "* #### Select Anime Id on the basis of which recommendations will be done"
   ]
  },
  {
   "cell_type": "code",
   "execution_count": 10,
   "id": "240ee8f1",
   "metadata": {
    "execution": {
     "iopub.execute_input": "2021-08-20T14:11:25.017587Z",
     "iopub.status.busy": "2021-08-20T14:11:25.016956Z",
     "iopub.status.idle": "2021-08-20T14:11:25.051206Z",
     "shell.execute_reply": "2021-08-20T14:11:25.050717Z",
     "shell.execute_reply.started": "2021-08-20T14:06:04.869872Z"
    },
    "papermill": {
     "duration": 0.075265,
     "end_time": "2021-08-20T14:11:25.051351",
     "exception": false,
     "start_time": "2021-08-20T14:11:24.976086",
     "status": "completed"
    },
    "tags": []
   },
   "outputs": [
    {
     "data": {
      "text/html": [
       "<div>\n",
       "<style scoped>\n",
       "    .dataframe tbody tr th:only-of-type {\n",
       "        vertical-align: middle;\n",
       "    }\n",
       "\n",
       "    .dataframe tbody tr th {\n",
       "        vertical-align: top;\n",
       "    }\n",
       "\n",
       "    .dataframe thead th {\n",
       "        text-align: right;\n",
       "    }\n",
       "</style>\n",
       "<table border=\"1\" class=\"dataframe\">\n",
       "  <thead>\n",
       "    <tr style=\"text-align: right;\">\n",
       "      <th></th>\n",
       "      <th>MAL_ID</th>\n",
       "      <th>Name</th>\n",
       "      <th>Score</th>\n",
       "      <th>Genres</th>\n",
       "      <th>Type</th>\n",
       "      <th>Episodes</th>\n",
       "      <th>Premiered</th>\n",
       "      <th>Studios</th>\n",
       "      <th>Source</th>\n",
       "      <th>Rating</th>\n",
       "      <th>Members</th>\n",
       "    </tr>\n",
       "  </thead>\n",
       "  <tbody>\n",
       "    <tr>\n",
       "      <th>4034</th>\n",
       "      <td>5231</td>\n",
       "      <td>Inazuma Eleven</td>\n",
       "      <td>7.59</td>\n",
       "      <td>[Sports,  Super Power,  Shounen]</td>\n",
       "      <td>TV</td>\n",
       "      <td>127</td>\n",
       "      <td>Fall 2008</td>\n",
       "      <td>[OLM]</td>\n",
       "      <td>Game</td>\n",
       "      <td>G - All Ages</td>\n",
       "      <td>138185</td>\n",
       "    </tr>\n",
       "  </tbody>\n",
       "</table>\n",
       "</div>"
      ],
      "text/plain": [
       "      MAL_ID            Name  Score                            Genres Type  \\\n",
       "4034    5231  Inazuma Eleven   7.59  [Sports,  Super Power,  Shounen]   TV   \n",
       "\n",
       "      Episodes  Premiered Studios Source        Rating  Members  \n",
       "4034       127  Fall 2008   [OLM]   Game  G - All Ages   138185  "
      ]
     },
     "execution_count": 10,
     "metadata": {},
     "output_type": "execute_result"
    }
   ],
   "source": [
    "query_index = ID_NAME[ID_NAME.MAL_ID == 5231].index[0]\n",
    "anime_recom.iloc[[query_index]]"
   ]
  },
  {
   "cell_type": "markdown",
   "id": "b1aa74a4",
   "metadata": {
    "papermill": {
     "duration": 0.036842,
     "end_time": "2021-08-20T14:11:25.125113",
     "exception": false,
     "start_time": "2021-08-20T14:11:25.088271",
     "status": "completed"
    },
    "tags": []
   },
   "source": [
    "* ####  **Based on Type and Studios**"
   ]
  },
  {
   "cell_type": "code",
   "execution_count": 11,
   "id": "a2e3cc60",
   "metadata": {
    "execution": {
     "iopub.execute_input": "2021-08-20T14:11:25.203108Z",
     "iopub.status.busy": "2021-08-20T14:11:25.202426Z",
     "iopub.status.idle": "2021-08-20T14:11:25.518195Z",
     "shell.execute_reply": "2021-08-20T14:11:25.517698Z",
     "shell.execute_reply.started": "2021-08-20T14:06:04.902624Z"
    },
    "papermill": {
     "duration": 0.356435,
     "end_time": "2021-08-20T14:11:25.518329",
     "exception": false,
     "start_time": "2021-08-20T14:11:25.161894",
     "status": "completed"
    },
    "tags": []
   },
   "outputs": [
    {
     "data": {
      "text/html": [
       "<div>\n",
       "<style scoped>\n",
       "    .dataframe tbody tr th:only-of-type {\n",
       "        vertical-align: middle;\n",
       "    }\n",
       "\n",
       "    .dataframe tbody tr th {\n",
       "        vertical-align: top;\n",
       "    }\n",
       "\n",
       "    .dataframe thead th {\n",
       "        text-align: right;\n",
       "    }\n",
       "</style>\n",
       "<table border=\"1\" class=\"dataframe\">\n",
       "  <thead>\n",
       "    <tr style=\"text-align: right;\">\n",
       "      <th></th>\n",
       "      <th>MAL_ID</th>\n",
       "      <th>Name</th>\n",
       "      <th>Score</th>\n",
       "      <th>Genres</th>\n",
       "      <th>Type</th>\n",
       "      <th>Episodes</th>\n",
       "      <th>Premiered</th>\n",
       "      <th>Studios</th>\n",
       "      <th>Source</th>\n",
       "      <th>Rating</th>\n",
       "      <th>Members</th>\n",
       "    </tr>\n",
       "  </thead>\n",
       "  <tbody>\n",
       "    <tr>\n",
       "      <th>6939</th>\n",
       "      <td>13261</td>\n",
       "      <td>Inazuma Eleven Go: Chrono Stone</td>\n",
       "      <td>7.17</td>\n",
       "      <td>[Sports,  Super Power,  Shounen]</td>\n",
       "      <td>TV</td>\n",
       "      <td>51</td>\n",
       "      <td>Spring 2012</td>\n",
       "      <td>[OLM]</td>\n",
       "      <td>Game</td>\n",
       "      <td>G - All Ages</td>\n",
       "      <td>38045</td>\n",
       "    </tr>\n",
       "    <tr>\n",
       "      <th>7775</th>\n",
       "      <td>17917</td>\n",
       "      <td>Danball Senki Wars</td>\n",
       "      <td>7.08</td>\n",
       "      <td>[Action,  Kids,  Mecha]</td>\n",
       "      <td>TV</td>\n",
       "      <td>37</td>\n",
       "      <td>Spring 2013</td>\n",
       "      <td>[OLM]</td>\n",
       "      <td>Game</td>\n",
       "      <td>G - All Ages</td>\n",
       "      <td>3680</td>\n",
       "    </tr>\n",
       "    <tr>\n",
       "      <th>6795</th>\n",
       "      <td>12651</td>\n",
       "      <td>Danball Senki W</td>\n",
       "      <td>7.05</td>\n",
       "      <td>[Action,  Kids,  Mecha]</td>\n",
       "      <td>TV</td>\n",
       "      <td>58</td>\n",
       "      <td>Winter 2012</td>\n",
       "      <td>[OLM]</td>\n",
       "      <td>Game</td>\n",
       "      <td>G - All Ages</td>\n",
       "      <td>4559</td>\n",
       "    </tr>\n",
       "    <tr>\n",
       "      <th>4893</th>\n",
       "      <td>7081</td>\n",
       "      <td>Danball Senki</td>\n",
       "      <td>7.02</td>\n",
       "      <td>[Action,  Kids,  Mecha]</td>\n",
       "      <td>TV</td>\n",
       "      <td>44</td>\n",
       "      <td>Spring 2011</td>\n",
       "      <td>[OLM]</td>\n",
       "      <td>Game</td>\n",
       "      <td>G - All Ages</td>\n",
       "      <td>7206</td>\n",
       "    </tr>\n",
       "    <tr>\n",
       "      <th>6243</th>\n",
       "      <td>10507</td>\n",
       "      <td>Inazuma Eleven Go</td>\n",
       "      <td>6.98</td>\n",
       "      <td>[Shounen,  Sports,  Super Power]</td>\n",
       "      <td>TV</td>\n",
       "      <td>47</td>\n",
       "      <td>Spring 2011</td>\n",
       "      <td>[OLM]</td>\n",
       "      <td>Game</td>\n",
       "      <td>G - All Ages</td>\n",
       "      <td>54307</td>\n",
       "    </tr>\n",
       "    <tr>\n",
       "      <th>14796</th>\n",
       "      <td>38235</td>\n",
       "      <td>Inazuma Eleven: Orion no Kokuin</td>\n",
       "      <td>6.79</td>\n",
       "      <td>[Sports]</td>\n",
       "      <td>TV</td>\n",
       "      <td>49</td>\n",
       "      <td>Fall 2018</td>\n",
       "      <td>[OLM]</td>\n",
       "      <td>Game</td>\n",
       "      <td>G - All Ages</td>\n",
       "      <td>15200</td>\n",
       "    </tr>\n",
       "    <tr>\n",
       "      <th>12038</th>\n",
       "      <td>33733</td>\n",
       "      <td>Inazuma Eleven: Ares no Tenbin</td>\n",
       "      <td>6.68</td>\n",
       "      <td>[Sports]</td>\n",
       "      <td>TV</td>\n",
       "      <td>26</td>\n",
       "      <td>Spring 2018</td>\n",
       "      <td>[OLM]</td>\n",
       "      <td>Game</td>\n",
       "      <td>G - All Ages</td>\n",
       "      <td>24740</td>\n",
       "    </tr>\n",
       "    <tr>\n",
       "      <th>7818</th>\n",
       "      <td>18097</td>\n",
       "      <td>Inazuma Eleven Go: Galaxy</td>\n",
       "      <td>6.65</td>\n",
       "      <td>[Shounen,  Sports,  Super Power]</td>\n",
       "      <td>TV</td>\n",
       "      <td>43</td>\n",
       "      <td>Spring 2013</td>\n",
       "      <td>[OLM]</td>\n",
       "      <td>Game</td>\n",
       "      <td>G - All Ages</td>\n",
       "      <td>31602</td>\n",
       "    </tr>\n",
       "    <tr>\n",
       "      <th>14184</th>\n",
       "      <td>37324</td>\n",
       "      <td>Youkai Watch: Shadow Side</td>\n",
       "      <td>6.58</td>\n",
       "      <td>[Comedy,  Demons,  Kids,  Supernatural]</td>\n",
       "      <td>TV</td>\n",
       "      <td>49</td>\n",
       "      <td>Spring 2018</td>\n",
       "      <td>[OLM]</td>\n",
       "      <td>Game</td>\n",
       "      <td>G - All Ages</td>\n",
       "      <td>1447</td>\n",
       "    </tr>\n",
       "  </tbody>\n",
       "</table>\n",
       "</div>"
      ],
      "text/plain": [
       "       MAL_ID                             Name  Score  \\\n",
       "6939    13261  Inazuma Eleven Go: Chrono Stone   7.17   \n",
       "7775    17917               Danball Senki Wars   7.08   \n",
       "6795    12651                  Danball Senki W   7.05   \n",
       "4893     7081                    Danball Senki   7.02   \n",
       "6243    10507                Inazuma Eleven Go   6.98   \n",
       "14796   38235  Inazuma Eleven: Orion no Kokuin   6.79   \n",
       "12038   33733   Inazuma Eleven: Ares no Tenbin   6.68   \n",
       "7818    18097        Inazuma Eleven Go: Galaxy   6.65   \n",
       "14184   37324        Youkai Watch: Shadow Side   6.58   \n",
       "\n",
       "                                        Genres Type  Episodes    Premiered  \\\n",
       "6939          [Sports,  Super Power,  Shounen]   TV        51  Spring 2012   \n",
       "7775                   [Action,  Kids,  Mecha]   TV        37  Spring 2013   \n",
       "6795                   [Action,  Kids,  Mecha]   TV        58  Winter 2012   \n",
       "4893                   [Action,  Kids,  Mecha]   TV        44  Spring 2011   \n",
       "6243          [Shounen,  Sports,  Super Power]   TV        47  Spring 2011   \n",
       "14796                                 [Sports]   TV        49    Fall 2018   \n",
       "12038                                 [Sports]   TV        26  Spring 2018   \n",
       "7818          [Shounen,  Sports,  Super Power]   TV        43  Spring 2013   \n",
       "14184  [Comedy,  Demons,  Kids,  Supernatural]   TV        49  Spring 2018   \n",
       "\n",
       "      Studios Source        Rating  Members  \n",
       "6939    [OLM]   Game  G - All Ages    38045  \n",
       "7775    [OLM]   Game  G - All Ages     3680  \n",
       "6795    [OLM]   Game  G - All Ages     4559  \n",
       "4893    [OLM]   Game  G - All Ages     7206  \n",
       "6243    [OLM]   Game  G - All Ages    54307  \n",
       "14796   [OLM]   Game  G - All Ages    15200  \n",
       "12038   [OLM]   Game  G - All Ages    24740  \n",
       "7818    [OLM]   Game  G - All Ages    31602  \n",
       "14184   [OLM]   Game  G - All Ages     1447  "
      ]
     },
     "execution_count": 11,
     "metadata": {},
     "output_type": "execute_result"
    }
   ],
   "source": [
    "get_recommended(anime_metadata, query_index, 10)"
   ]
  },
  {
   "cell_type": "markdown",
   "id": "e7b250e4",
   "metadata": {
    "papermill": {
     "duration": 0.037053,
     "end_time": "2021-08-20T14:11:25.593051",
     "exception": false,
     "start_time": "2021-08-20T14:11:25.555998",
     "status": "completed"
    },
    "tags": []
   },
   "source": [
    "* ####  **Based on Keywords of the anime**"
   ]
  },
  {
   "cell_type": "code",
   "execution_count": 12,
   "id": "2e815351",
   "metadata": {
    "execution": {
     "iopub.execute_input": "2021-08-20T14:11:25.670831Z",
     "iopub.status.busy": "2021-08-20T14:11:25.670174Z",
     "iopub.status.idle": "2021-08-20T14:11:25.702651Z",
     "shell.execute_reply": "2021-08-20T14:11:25.702113Z",
     "shell.execute_reply.started": "2021-08-20T14:06:05.235725Z"
    },
    "papermill": {
     "duration": 0.07265,
     "end_time": "2021-08-20T14:11:25.702795",
     "exception": false,
     "start_time": "2021-08-20T14:11:25.630145",
     "status": "completed"
    },
    "tags": []
   },
   "outputs": [
    {
     "data": {
      "text/html": [
       "<div>\n",
       "<style scoped>\n",
       "    .dataframe tbody tr th:only-of-type {\n",
       "        vertical-align: middle;\n",
       "    }\n",
       "\n",
       "    .dataframe tbody tr th {\n",
       "        vertical-align: top;\n",
       "    }\n",
       "\n",
       "    .dataframe thead th {\n",
       "        text-align: right;\n",
       "    }\n",
       "</style>\n",
       "<table border=\"1\" class=\"dataframe\">\n",
       "  <thead>\n",
       "    <tr style=\"text-align: right;\">\n",
       "      <th></th>\n",
       "      <th>MAL_ID</th>\n",
       "      <th>Name</th>\n",
       "      <th>Score</th>\n",
       "      <th>Genres</th>\n",
       "      <th>Type</th>\n",
       "      <th>Episodes</th>\n",
       "      <th>Premiered</th>\n",
       "      <th>Studios</th>\n",
       "      <th>Source</th>\n",
       "      <th>Rating</th>\n",
       "      <th>Members</th>\n",
       "    </tr>\n",
       "  </thead>\n",
       "  <tbody>\n",
       "    <tr>\n",
       "      <th>9124</th>\n",
       "      <td>24347</td>\n",
       "      <td>Inazuma Eleven: Chou Jigen Dream Match</td>\n",
       "      <td>6.94</td>\n",
       "      <td>[Sports,  Super Power,  Shounen]</td>\n",
       "      <td>Movie</td>\n",
       "      <td>1</td>\n",
       "      <td>Unknown</td>\n",
       "      <td>[OLM]</td>\n",
       "      <td>Game</td>\n",
       "      <td>G - All Ages</td>\n",
       "      <td>7384</td>\n",
       "    </tr>\n",
       "    <tr>\n",
       "      <th>6785</th>\n",
       "      <td>12585</td>\n",
       "      <td>Inazuma Eleven Go Specials</td>\n",
       "      <td>6.69</td>\n",
       "      <td>[Sports,  Super Power,  Shounen]</td>\n",
       "      <td>Special</td>\n",
       "      <td>2</td>\n",
       "      <td>Unknown</td>\n",
       "      <td>[OLM]</td>\n",
       "      <td>Unknown</td>\n",
       "      <td>G - All Ages</td>\n",
       "      <td>4743</td>\n",
       "    </tr>\n",
       "    <tr>\n",
       "      <th>6939</th>\n",
       "      <td>13261</td>\n",
       "      <td>Inazuma Eleven Go: Chrono Stone</td>\n",
       "      <td>7.17</td>\n",
       "      <td>[Sports,  Super Power,  Shounen]</td>\n",
       "      <td>TV</td>\n",
       "      <td>51</td>\n",
       "      <td>Spring 2012</td>\n",
       "      <td>[OLM]</td>\n",
       "      <td>Game</td>\n",
       "      <td>G - All Ages</td>\n",
       "      <td>38045</td>\n",
       "    </tr>\n",
       "    <tr>\n",
       "      <th>6461</th>\n",
       "      <td>10999</td>\n",
       "      <td>Inazuma Eleven Go: Kyuukyoku no Kizuna Gryphon</td>\n",
       "      <td>7.41</td>\n",
       "      <td>[Sci-Fi,  Sports,  Super Power,  Shounen]</td>\n",
       "      <td>Movie</td>\n",
       "      <td>1</td>\n",
       "      <td>Unknown</td>\n",
       "      <td>[OLM]</td>\n",
       "      <td>Game</td>\n",
       "      <td>G - All Ages</td>\n",
       "      <td>11451</td>\n",
       "    </tr>\n",
       "    <tr>\n",
       "      <th>12043</th>\n",
       "      <td>33740</td>\n",
       "      <td>Katekyo Hitman Reborn! x ēlDLIVE Special</td>\n",
       "      <td>6.76</td>\n",
       "      <td>[Super Power,  Shounen]</td>\n",
       "      <td>Special</td>\n",
       "      <td>1</td>\n",
       "      <td>Unknown</td>\n",
       "      <td>[Artland]</td>\n",
       "      <td>Original</td>\n",
       "      <td>PG-13 - Teens 13 or older</td>\n",
       "      <td>8366</td>\n",
       "    </tr>\n",
       "    <tr>\n",
       "      <th>7818</th>\n",
       "      <td>18097</td>\n",
       "      <td>Inazuma Eleven Go: Galaxy</td>\n",
       "      <td>6.65</td>\n",
       "      <td>[Shounen,  Sports,  Super Power]</td>\n",
       "      <td>TV</td>\n",
       "      <td>43</td>\n",
       "      <td>Spring 2013</td>\n",
       "      <td>[OLM]</td>\n",
       "      <td>Game</td>\n",
       "      <td>G - All Ages</td>\n",
       "      <td>31602</td>\n",
       "    </tr>\n",
       "    <tr>\n",
       "      <th>6243</th>\n",
       "      <td>10507</td>\n",
       "      <td>Inazuma Eleven Go</td>\n",
       "      <td>6.98</td>\n",
       "      <td>[Shounen,  Sports,  Super Power]</td>\n",
       "      <td>TV</td>\n",
       "      <td>47</td>\n",
       "      <td>Spring 2011</td>\n",
       "      <td>[OLM]</td>\n",
       "      <td>Game</td>\n",
       "      <td>G - All Ages</td>\n",
       "      <td>54307</td>\n",
       "    </tr>\n",
       "    <tr>\n",
       "      <th>5617</th>\n",
       "      <td>9032</td>\n",
       "      <td>Inazuma Eleven: Saikyou Gundan Ogre Shuurai</td>\n",
       "      <td>7.32</td>\n",
       "      <td>[Shounen,  Sports,  Super Power]</td>\n",
       "      <td>Movie</td>\n",
       "      <td>1</td>\n",
       "      <td>Unknown</td>\n",
       "      <td>[OLM]</td>\n",
       "      <td>Unknown</td>\n",
       "      <td>G - All Ages</td>\n",
       "      <td>19711</td>\n",
       "    </tr>\n",
       "    <tr>\n",
       "      <th>12921</th>\n",
       "      <td>35230</td>\n",
       "      <td>Zannen Onna Kanbu Black General-san</td>\n",
       "      <td>5.83</td>\n",
       "      <td>[Comedy,  Super Power,  Shounen]</td>\n",
       "      <td>ONA</td>\n",
       "      <td>10</td>\n",
       "      <td>Unknown</td>\n",
       "      <td>[Oddjob]</td>\n",
       "      <td>Manga</td>\n",
       "      <td>PG-13 - Teens 13 or older</td>\n",
       "      <td>1733</td>\n",
       "    </tr>\n",
       "  </tbody>\n",
       "</table>\n",
       "</div>"
      ],
      "text/plain": [
       "       MAL_ID                                            Name  Score  \\\n",
       "9124    24347          Inazuma Eleven: Chou Jigen Dream Match   6.94   \n",
       "6785    12585                      Inazuma Eleven Go Specials   6.69   \n",
       "6939    13261                 Inazuma Eleven Go: Chrono Stone   7.17   \n",
       "6461    10999  Inazuma Eleven Go: Kyuukyoku no Kizuna Gryphon   7.41   \n",
       "12043   33740        Katekyo Hitman Reborn! x ēlDLIVE Special   6.76   \n",
       "7818    18097                       Inazuma Eleven Go: Galaxy   6.65   \n",
       "6243    10507                               Inazuma Eleven Go   6.98   \n",
       "5617     9032     Inazuma Eleven: Saikyou Gundan Ogre Shuurai   7.32   \n",
       "12921   35230             Zannen Onna Kanbu Black General-san   5.83   \n",
       "\n",
       "                                          Genres     Type  Episodes  \\\n",
       "9124            [Sports,  Super Power,  Shounen]    Movie         1   \n",
       "6785            [Sports,  Super Power,  Shounen]  Special         2   \n",
       "6939            [Sports,  Super Power,  Shounen]       TV        51   \n",
       "6461   [Sci-Fi,  Sports,  Super Power,  Shounen]    Movie         1   \n",
       "12043                    [Super Power,  Shounen]  Special         1   \n",
       "7818            [Shounen,  Sports,  Super Power]       TV        43   \n",
       "6243            [Shounen,  Sports,  Super Power]       TV        47   \n",
       "5617            [Shounen,  Sports,  Super Power]    Movie         1   \n",
       "12921           [Comedy,  Super Power,  Shounen]      ONA        10   \n",
       "\n",
       "         Premiered    Studios    Source                     Rating  Members  \n",
       "9124       Unknown      [OLM]      Game               G - All Ages     7384  \n",
       "6785       Unknown      [OLM]   Unknown               G - All Ages     4743  \n",
       "6939   Spring 2012      [OLM]      Game               G - All Ages    38045  \n",
       "6461       Unknown      [OLM]      Game               G - All Ages    11451  \n",
       "12043      Unknown  [Artland]  Original  PG-13 - Teens 13 or older     8366  \n",
       "7818   Spring 2013      [OLM]      Game               G - All Ages    31602  \n",
       "6243   Spring 2011      [OLM]      Game               G - All Ages    54307  \n",
       "5617       Unknown      [OLM]   Unknown               G - All Ages    19711  \n",
       "12921      Unknown   [Oddjob]     Manga  PG-13 - Teens 13 or older     1733  "
      ]
     },
     "execution_count": 12,
     "metadata": {},
     "output_type": "execute_result"
    }
   ],
   "source": [
    "get_recommended(genres_vector_tf_idf, query_index, 10)"
   ]
  },
  {
   "cell_type": "markdown",
   "id": "c0c1d8a2",
   "metadata": {
    "papermill": {
     "duration": 0.038,
     "end_time": "2021-08-20T14:11:25.779728",
     "exception": false,
     "start_time": "2021-08-20T14:11:25.741728",
     "status": "completed"
    },
    "tags": []
   },
   "source": [
    "* ####  **Based on Genres**"
   ]
  },
  {
   "cell_type": "code",
   "execution_count": 13,
   "id": "328eef0a",
   "metadata": {
    "execution": {
     "iopub.execute_input": "2021-08-20T14:11:25.860363Z",
     "iopub.status.busy": "2021-08-20T14:11:25.859742Z",
     "iopub.status.idle": "2021-08-20T14:11:25.910002Z",
     "shell.execute_reply": "2021-08-20T14:11:25.909433Z",
     "shell.execute_reply.started": "2021-08-20T14:06:05.279251Z"
    },
    "papermill": {
     "duration": 0.092433,
     "end_time": "2021-08-20T14:11:25.910134",
     "exception": false,
     "start_time": "2021-08-20T14:11:25.817701",
     "status": "completed"
    },
    "tags": []
   },
   "outputs": [
    {
     "data": {
      "text/html": [
       "<div>\n",
       "<style scoped>\n",
       "    .dataframe tbody tr th:only-of-type {\n",
       "        vertical-align: middle;\n",
       "    }\n",
       "\n",
       "    .dataframe tbody tr th {\n",
       "        vertical-align: top;\n",
       "    }\n",
       "\n",
       "    .dataframe thead th {\n",
       "        text-align: right;\n",
       "    }\n",
       "</style>\n",
       "<table border=\"1\" class=\"dataframe\">\n",
       "  <thead>\n",
       "    <tr style=\"text-align: right;\">\n",
       "      <th></th>\n",
       "      <th>MAL_ID</th>\n",
       "      <th>Name</th>\n",
       "      <th>Score</th>\n",
       "      <th>Genres</th>\n",
       "      <th>Type</th>\n",
       "      <th>Episodes</th>\n",
       "      <th>Premiered</th>\n",
       "      <th>Studios</th>\n",
       "      <th>Source</th>\n",
       "      <th>Rating</th>\n",
       "      <th>Members</th>\n",
       "    </tr>\n",
       "  </thead>\n",
       "  <tbody>\n",
       "    <tr>\n",
       "      <th>6939</th>\n",
       "      <td>13261</td>\n",
       "      <td>Inazuma Eleven Go: Chrono Stone</td>\n",
       "      <td>7.17</td>\n",
       "      <td>[Sports,  Super Power,  Shounen]</td>\n",
       "      <td>TV</td>\n",
       "      <td>51</td>\n",
       "      <td>Spring 2012</td>\n",
       "      <td>[OLM]</td>\n",
       "      <td>Game</td>\n",
       "      <td>G - All Ages</td>\n",
       "      <td>38045</td>\n",
       "    </tr>\n",
       "    <tr>\n",
       "      <th>9124</th>\n",
       "      <td>24347</td>\n",
       "      <td>Inazuma Eleven: Chou Jigen Dream Match</td>\n",
       "      <td>6.94</td>\n",
       "      <td>[Sports,  Super Power,  Shounen]</td>\n",
       "      <td>Movie</td>\n",
       "      <td>1</td>\n",
       "      <td>Unknown</td>\n",
       "      <td>[OLM]</td>\n",
       "      <td>Game</td>\n",
       "      <td>G - All Ages</td>\n",
       "      <td>7384</td>\n",
       "    </tr>\n",
       "    <tr>\n",
       "      <th>6785</th>\n",
       "      <td>12585</td>\n",
       "      <td>Inazuma Eleven Go Specials</td>\n",
       "      <td>6.69</td>\n",
       "      <td>[Sports,  Super Power,  Shounen]</td>\n",
       "      <td>Special</td>\n",
       "      <td>2</td>\n",
       "      <td>Unknown</td>\n",
       "      <td>[OLM]</td>\n",
       "      <td>Unknown</td>\n",
       "      <td>G - All Ages</td>\n",
       "      <td>4743</td>\n",
       "    </tr>\n",
       "    <tr>\n",
       "      <th>6644</th>\n",
       "      <td>11857</td>\n",
       "      <td>Judo Sanka</td>\n",
       "      <td>0.00</td>\n",
       "      <td>[Sports,  Shounen]</td>\n",
       "      <td>TV</td>\n",
       "      <td>27</td>\n",
       "      <td>Spring 1974</td>\n",
       "      <td>[]</td>\n",
       "      <td>Unknown</td>\n",
       "      <td>G - All Ages</td>\n",
       "      <td>368</td>\n",
       "    </tr>\n",
       "    <tr>\n",
       "      <th>7810</th>\n",
       "      <td>18061</td>\n",
       "      <td>Tiger Mask (Movie)</td>\n",
       "      <td>6.13</td>\n",
       "      <td>[Sports,  Shounen]</td>\n",
       "      <td>Movie</td>\n",
       "      <td>1</td>\n",
       "      <td>Unknown</td>\n",
       "      <td>[]</td>\n",
       "      <td>Manga</td>\n",
       "      <td>PG-13 - Teens 13 or older</td>\n",
       "      <td>703</td>\n",
       "    </tr>\n",
       "    <tr>\n",
       "      <th>7811</th>\n",
       "      <td>18063</td>\n",
       "      <td>Tiger Mask Fuku Men League Sen</td>\n",
       "      <td>6.12</td>\n",
       "      <td>[Sports,  Shounen]</td>\n",
       "      <td>Movie</td>\n",
       "      <td>1</td>\n",
       "      <td>Unknown</td>\n",
       "      <td>[Toei Animation]</td>\n",
       "      <td>Manga</td>\n",
       "      <td>PG-13 - Teens 13 or older</td>\n",
       "      <td>705</td>\n",
       "    </tr>\n",
       "    <tr>\n",
       "      <th>7541</th>\n",
       "      <td>16824</td>\n",
       "      <td>Hwang-geum-ui Pal</td>\n",
       "      <td>0.00</td>\n",
       "      <td>[Sports,  Shounen]</td>\n",
       "      <td>Movie</td>\n",
       "      <td>1</td>\n",
       "      <td>Unknown</td>\n",
       "      <td>[]</td>\n",
       "      <td>Unknown</td>\n",
       "      <td>Unknown</td>\n",
       "      <td>161</td>\n",
       "    </tr>\n",
       "    <tr>\n",
       "      <th>8626</th>\n",
       "      <td>22205</td>\n",
       "      <td>Be Blues! Ao ni Nare</td>\n",
       "      <td>5.46</td>\n",
       "      <td>[Sports,  Shounen]</td>\n",
       "      <td>ONA</td>\n",
       "      <td>1</td>\n",
       "      <td>Unknown</td>\n",
       "      <td>[]</td>\n",
       "      <td>Manga</td>\n",
       "      <td>G - All Ages</td>\n",
       "      <td>457</td>\n",
       "    </tr>\n",
       "    <tr>\n",
       "      <th>6276</th>\n",
       "      <td>10573</td>\n",
       "      <td>Tennis no Ouji-sama: Another Story II - Ano To...</td>\n",
       "      <td>7.54</td>\n",
       "      <td>[Sports,  Shounen]</td>\n",
       "      <td>OVA</td>\n",
       "      <td>4</td>\n",
       "      <td>Unknown</td>\n",
       "      <td>[Production I.G]</td>\n",
       "      <td>Manga</td>\n",
       "      <td>PG-13 - Teens 13 or older</td>\n",
       "      <td>9028</td>\n",
       "    </tr>\n",
       "  </tbody>\n",
       "</table>\n",
       "</div>"
      ],
      "text/plain": [
       "      MAL_ID                                               Name  Score  \\\n",
       "6939   13261                    Inazuma Eleven Go: Chrono Stone   7.17   \n",
       "9124   24347             Inazuma Eleven: Chou Jigen Dream Match   6.94   \n",
       "6785   12585                         Inazuma Eleven Go Specials   6.69   \n",
       "6644   11857                                         Judo Sanka   0.00   \n",
       "7810   18061                                 Tiger Mask (Movie)   6.13   \n",
       "7811   18063                     Tiger Mask Fuku Men League Sen   6.12   \n",
       "7541   16824                                  Hwang-geum-ui Pal   0.00   \n",
       "8626   22205                               Be Blues! Ao ni Nare   5.46   \n",
       "6276   10573  Tennis no Ouji-sama: Another Story II - Ano To...   7.54   \n",
       "\n",
       "                                Genres     Type  Episodes    Premiered  \\\n",
       "6939  [Sports,  Super Power,  Shounen]       TV        51  Spring 2012   \n",
       "9124  [Sports,  Super Power,  Shounen]    Movie         1      Unknown   \n",
       "6785  [Sports,  Super Power,  Shounen]  Special         2      Unknown   \n",
       "6644                [Sports,  Shounen]       TV        27  Spring 1974   \n",
       "7810                [Sports,  Shounen]    Movie         1      Unknown   \n",
       "7811                [Sports,  Shounen]    Movie         1      Unknown   \n",
       "7541                [Sports,  Shounen]    Movie         1      Unknown   \n",
       "8626                [Sports,  Shounen]      ONA         1      Unknown   \n",
       "6276                [Sports,  Shounen]      OVA         4      Unknown   \n",
       "\n",
       "               Studios   Source                     Rating  Members  \n",
       "6939             [OLM]     Game               G - All Ages    38045  \n",
       "9124             [OLM]     Game               G - All Ages     7384  \n",
       "6785             [OLM]  Unknown               G - All Ages     4743  \n",
       "6644                []  Unknown               G - All Ages      368  \n",
       "7810                []    Manga  PG-13 - Teens 13 or older      703  \n",
       "7811  [Toei Animation]    Manga  PG-13 - Teens 13 or older      705  \n",
       "7541                []  Unknown                    Unknown      161  \n",
       "8626                []    Manga               G - All Ages      457  \n",
       "6276  [Production I.G]    Manga  PG-13 - Teens 13 or older     9028  "
      ]
     },
     "execution_count": 13,
     "metadata": {},
     "output_type": "execute_result"
    }
   ],
   "source": [
    "get_recommended(genres_vector_one_hot, query_index, 10)"
   ]
  },
  {
   "cell_type": "markdown",
   "id": "ee6743ea",
   "metadata": {
    "papermill": {
     "duration": 0.038617,
     "end_time": "2021-08-20T14:11:25.987887",
     "exception": false,
     "start_time": "2021-08-20T14:11:25.949270",
     "status": "completed"
    },
    "tags": []
   },
   "source": [
    "* ####  **Based on all Aspects**"
   ]
  },
  {
   "cell_type": "code",
   "execution_count": 14,
   "id": "ab9e6694",
   "metadata": {
    "execution": {
     "iopub.execute_input": "2021-08-20T14:11:26.072699Z",
     "iopub.status.busy": "2021-08-20T14:11:26.072042Z",
     "iopub.status.idle": "2021-08-20T14:11:26.542362Z",
     "shell.execute_reply": "2021-08-20T14:11:26.542869Z",
     "shell.execute_reply.started": "2021-08-20T14:06:05.347483Z"
    },
    "papermill": {
     "duration": 0.515124,
     "end_time": "2021-08-20T14:11:26.543031",
     "exception": false,
     "start_time": "2021-08-20T14:11:26.027907",
     "status": "completed"
    },
    "tags": []
   },
   "outputs": [
    {
     "data": {
      "text/plain": [
       "(17562, 3573)"
      ]
     },
     "execution_count": 14,
     "metadata": {},
     "output_type": "execute_result"
    }
   ],
   "source": [
    "all_data = np.concatenate((anime_metadata, genres_vector_tf_idf.todense(), genres_vector_one_hot), axis=1)\n",
    "all_data.shape"
   ]
  },
  {
   "cell_type": "code",
   "execution_count": 15,
   "id": "df124630",
   "metadata": {
    "execution": {
     "iopub.execute_input": "2021-08-20T14:11:26.625781Z",
     "iopub.status.busy": "2021-08-20T14:11:26.625081Z",
     "iopub.status.idle": "2021-08-20T14:11:27.107006Z",
     "shell.execute_reply": "2021-08-20T14:11:27.107470Z",
     "shell.execute_reply.started": "2021-08-20T14:06:06.016735Z"
    },
    "papermill": {
     "duration": 0.525438,
     "end_time": "2021-08-20T14:11:27.107646",
     "exception": false,
     "start_time": "2021-08-20T14:11:26.582208",
     "status": "completed"
    },
    "tags": []
   },
   "outputs": [
    {
     "data": {
      "text/html": [
       "<div>\n",
       "<style scoped>\n",
       "    .dataframe tbody tr th:only-of-type {\n",
       "        vertical-align: middle;\n",
       "    }\n",
       "\n",
       "    .dataframe tbody tr th {\n",
       "        vertical-align: top;\n",
       "    }\n",
       "\n",
       "    .dataframe thead th {\n",
       "        text-align: right;\n",
       "    }\n",
       "</style>\n",
       "<table border=\"1\" class=\"dataframe\">\n",
       "  <thead>\n",
       "    <tr style=\"text-align: right;\">\n",
       "      <th></th>\n",
       "      <th>MAL_ID</th>\n",
       "      <th>Name</th>\n",
       "      <th>Score</th>\n",
       "      <th>Genres</th>\n",
       "      <th>Type</th>\n",
       "      <th>Episodes</th>\n",
       "      <th>Premiered</th>\n",
       "      <th>Studios</th>\n",
       "      <th>Source</th>\n",
       "      <th>Rating</th>\n",
       "      <th>Members</th>\n",
       "    </tr>\n",
       "  </thead>\n",
       "  <tbody>\n",
       "    <tr>\n",
       "      <th>6939</th>\n",
       "      <td>13261</td>\n",
       "      <td>Inazuma Eleven Go: Chrono Stone</td>\n",
       "      <td>7.17</td>\n",
       "      <td>[Sports,  Super Power,  Shounen]</td>\n",
       "      <td>TV</td>\n",
       "      <td>51</td>\n",
       "      <td>Spring 2012</td>\n",
       "      <td>[OLM]</td>\n",
       "      <td>Game</td>\n",
       "      <td>G - All Ages</td>\n",
       "      <td>38045</td>\n",
       "    </tr>\n",
       "    <tr>\n",
       "      <th>9124</th>\n",
       "      <td>24347</td>\n",
       "      <td>Inazuma Eleven: Chou Jigen Dream Match</td>\n",
       "      <td>6.94</td>\n",
       "      <td>[Sports,  Super Power,  Shounen]</td>\n",
       "      <td>Movie</td>\n",
       "      <td>1</td>\n",
       "      <td>Unknown</td>\n",
       "      <td>[OLM]</td>\n",
       "      <td>Game</td>\n",
       "      <td>G - All Ages</td>\n",
       "      <td>7384</td>\n",
       "    </tr>\n",
       "    <tr>\n",
       "      <th>6785</th>\n",
       "      <td>12585</td>\n",
       "      <td>Inazuma Eleven Go Specials</td>\n",
       "      <td>6.69</td>\n",
       "      <td>[Sports,  Super Power,  Shounen]</td>\n",
       "      <td>Special</td>\n",
       "      <td>2</td>\n",
       "      <td>Unknown</td>\n",
       "      <td>[OLM]</td>\n",
       "      <td>Unknown</td>\n",
       "      <td>G - All Ages</td>\n",
       "      <td>4743</td>\n",
       "    </tr>\n",
       "    <tr>\n",
       "      <th>14796</th>\n",
       "      <td>38235</td>\n",
       "      <td>Inazuma Eleven: Orion no Kokuin</td>\n",
       "      <td>6.79</td>\n",
       "      <td>[Sports]</td>\n",
       "      <td>TV</td>\n",
       "      <td>49</td>\n",
       "      <td>Fall 2018</td>\n",
       "      <td>[OLM]</td>\n",
       "      <td>Game</td>\n",
       "      <td>G - All Ages</td>\n",
       "      <td>15200</td>\n",
       "    </tr>\n",
       "    <tr>\n",
       "      <th>12038</th>\n",
       "      <td>33733</td>\n",
       "      <td>Inazuma Eleven: Ares no Tenbin</td>\n",
       "      <td>6.68</td>\n",
       "      <td>[Sports]</td>\n",
       "      <td>TV</td>\n",
       "      <td>26</td>\n",
       "      <td>Spring 2018</td>\n",
       "      <td>[OLM]</td>\n",
       "      <td>Game</td>\n",
       "      <td>G - All Ages</td>\n",
       "      <td>24740</td>\n",
       "    </tr>\n",
       "    <tr>\n",
       "      <th>6461</th>\n",
       "      <td>10999</td>\n",
       "      <td>Inazuma Eleven Go: Kyuukyoku no Kizuna Gryphon</td>\n",
       "      <td>7.41</td>\n",
       "      <td>[Sci-Fi,  Sports,  Super Power,  Shounen]</td>\n",
       "      <td>Movie</td>\n",
       "      <td>1</td>\n",
       "      <td>Unknown</td>\n",
       "      <td>[OLM]</td>\n",
       "      <td>Game</td>\n",
       "      <td>G - All Ages</td>\n",
       "      <td>11451</td>\n",
       "    </tr>\n",
       "    <tr>\n",
       "      <th>6243</th>\n",
       "      <td>10507</td>\n",
       "      <td>Inazuma Eleven Go</td>\n",
       "      <td>6.98</td>\n",
       "      <td>[Shounen,  Sports,  Super Power]</td>\n",
       "      <td>TV</td>\n",
       "      <td>47</td>\n",
       "      <td>Spring 2011</td>\n",
       "      <td>[OLM]</td>\n",
       "      <td>Game</td>\n",
       "      <td>G - All Ages</td>\n",
       "      <td>54307</td>\n",
       "    </tr>\n",
       "    <tr>\n",
       "      <th>7818</th>\n",
       "      <td>18097</td>\n",
       "      <td>Inazuma Eleven Go: Galaxy</td>\n",
       "      <td>6.65</td>\n",
       "      <td>[Shounen,  Sports,  Super Power]</td>\n",
       "      <td>TV</td>\n",
       "      <td>43</td>\n",
       "      <td>Spring 2013</td>\n",
       "      <td>[OLM]</td>\n",
       "      <td>Game</td>\n",
       "      <td>G - All Ages</td>\n",
       "      <td>31602</td>\n",
       "    </tr>\n",
       "    <tr>\n",
       "      <th>14501</th>\n",
       "      <td>37814</td>\n",
       "      <td>Inazuma Eleven: Reloaded - Soccer no Henkaku</td>\n",
       "      <td>6.99</td>\n",
       "      <td>[Sports]</td>\n",
       "      <td>Special</td>\n",
       "      <td>1</td>\n",
       "      <td>Unknown</td>\n",
       "      <td>[OLM]</td>\n",
       "      <td>Game</td>\n",
       "      <td>G - All Ages</td>\n",
       "      <td>4106</td>\n",
       "    </tr>\n",
       "  </tbody>\n",
       "</table>\n",
       "</div>"
      ],
      "text/plain": [
       "       MAL_ID                                            Name  Score  \\\n",
       "6939    13261                 Inazuma Eleven Go: Chrono Stone   7.17   \n",
       "9124    24347          Inazuma Eleven: Chou Jigen Dream Match   6.94   \n",
       "6785    12585                      Inazuma Eleven Go Specials   6.69   \n",
       "14796   38235                 Inazuma Eleven: Orion no Kokuin   6.79   \n",
       "12038   33733                  Inazuma Eleven: Ares no Tenbin   6.68   \n",
       "6461    10999  Inazuma Eleven Go: Kyuukyoku no Kizuna Gryphon   7.41   \n",
       "6243    10507                               Inazuma Eleven Go   6.98   \n",
       "7818    18097                       Inazuma Eleven Go: Galaxy   6.65   \n",
       "14501   37814    Inazuma Eleven: Reloaded - Soccer no Henkaku   6.99   \n",
       "\n",
       "                                          Genres     Type  Episodes  \\\n",
       "6939            [Sports,  Super Power,  Shounen]       TV        51   \n",
       "9124            [Sports,  Super Power,  Shounen]    Movie         1   \n",
       "6785            [Sports,  Super Power,  Shounen]  Special         2   \n",
       "14796                                   [Sports]       TV        49   \n",
       "12038                                   [Sports]       TV        26   \n",
       "6461   [Sci-Fi,  Sports,  Super Power,  Shounen]    Movie         1   \n",
       "6243            [Shounen,  Sports,  Super Power]       TV        47   \n",
       "7818            [Shounen,  Sports,  Super Power]       TV        43   \n",
       "14501                                   [Sports]  Special         1   \n",
       "\n",
       "         Premiered Studios   Source        Rating  Members  \n",
       "6939   Spring 2012   [OLM]     Game  G - All Ages    38045  \n",
       "9124       Unknown   [OLM]     Game  G - All Ages     7384  \n",
       "6785       Unknown   [OLM]  Unknown  G - All Ages     4743  \n",
       "14796    Fall 2018   [OLM]     Game  G - All Ages    15200  \n",
       "12038  Spring 2018   [OLM]     Game  G - All Ages    24740  \n",
       "6461       Unknown   [OLM]     Game  G - All Ages    11451  \n",
       "6243   Spring 2011   [OLM]     Game  G - All Ages    54307  \n",
       "7818   Spring 2013   [OLM]     Game  G - All Ages    31602  \n",
       "14501      Unknown   [OLM]     Game  G - All Ages     4106  "
      ]
     },
     "execution_count": 15,
     "metadata": {},
     "output_type": "execute_result"
    }
   ],
   "source": [
    "get_recommended(all_data, query_index, 10)"
   ]
  },
  {
   "cell_type": "markdown",
   "id": "2f345a94",
   "metadata": {
    "papermill": {
     "duration": 0.039535,
     "end_time": "2021-08-20T14:11:27.187056",
     "exception": false,
     "start_time": "2021-08-20T14:11:27.147521",
     "status": "completed"
    },
    "tags": []
   },
   "source": [
    "* ####  **Based on Top Features**"
   ]
  },
  {
   "cell_type": "code",
   "execution_count": 16,
   "id": "b49071a0",
   "metadata": {
    "execution": {
     "iopub.execute_input": "2021-08-20T14:11:27.271814Z",
     "iopub.status.busy": "2021-08-20T14:11:27.271113Z",
     "iopub.status.idle": "2021-08-20T14:11:39.992992Z",
     "shell.execute_reply": "2021-08-20T14:11:39.992226Z",
     "shell.execute_reply.started": "2021-08-20T14:06:06.531704Z"
    },
    "papermill": {
     "duration": 12.766271,
     "end_time": "2021-08-20T14:11:39.993142",
     "exception": false,
     "start_time": "2021-08-20T14:11:27.226871",
     "status": "completed"
    },
    "tags": []
   },
   "outputs": [
    {
     "data": {
      "text/html": [
       "<div>\n",
       "<style scoped>\n",
       "    .dataframe tbody tr th:only-of-type {\n",
       "        vertical-align: middle;\n",
       "    }\n",
       "\n",
       "    .dataframe tbody tr th {\n",
       "        vertical-align: top;\n",
       "    }\n",
       "\n",
       "    .dataframe thead th {\n",
       "        text-align: right;\n",
       "    }\n",
       "</style>\n",
       "<table border=\"1\" class=\"dataframe\">\n",
       "  <thead>\n",
       "    <tr style=\"text-align: right;\">\n",
       "      <th></th>\n",
       "      <th>MAL_ID</th>\n",
       "      <th>Name</th>\n",
       "      <th>Score</th>\n",
       "      <th>Genres</th>\n",
       "      <th>Type</th>\n",
       "      <th>Episodes</th>\n",
       "      <th>Premiered</th>\n",
       "      <th>Studios</th>\n",
       "      <th>Source</th>\n",
       "      <th>Rating</th>\n",
       "      <th>Members</th>\n",
       "    </tr>\n",
       "  </thead>\n",
       "  <tbody>\n",
       "    <tr>\n",
       "      <th>6939</th>\n",
       "      <td>13261</td>\n",
       "      <td>Inazuma Eleven Go: Chrono Stone</td>\n",
       "      <td>7.17</td>\n",
       "      <td>[Sports,  Super Power,  Shounen]</td>\n",
       "      <td>TV</td>\n",
       "      <td>51</td>\n",
       "      <td>Spring 2012</td>\n",
       "      <td>[OLM]</td>\n",
       "      <td>Game</td>\n",
       "      <td>G - All Ages</td>\n",
       "      <td>38045</td>\n",
       "    </tr>\n",
       "    <tr>\n",
       "      <th>9124</th>\n",
       "      <td>24347</td>\n",
       "      <td>Inazuma Eleven: Chou Jigen Dream Match</td>\n",
       "      <td>6.94</td>\n",
       "      <td>[Sports,  Super Power,  Shounen]</td>\n",
       "      <td>Movie</td>\n",
       "      <td>1</td>\n",
       "      <td>Unknown</td>\n",
       "      <td>[OLM]</td>\n",
       "      <td>Game</td>\n",
       "      <td>G - All Ages</td>\n",
       "      <td>7384</td>\n",
       "    </tr>\n",
       "    <tr>\n",
       "      <th>6785</th>\n",
       "      <td>12585</td>\n",
       "      <td>Inazuma Eleven Go Specials</td>\n",
       "      <td>6.69</td>\n",
       "      <td>[Sports,  Super Power,  Shounen]</td>\n",
       "      <td>Special</td>\n",
       "      <td>2</td>\n",
       "      <td>Unknown</td>\n",
       "      <td>[OLM]</td>\n",
       "      <td>Unknown</td>\n",
       "      <td>G - All Ages</td>\n",
       "      <td>4743</td>\n",
       "    </tr>\n",
       "    <tr>\n",
       "      <th>14796</th>\n",
       "      <td>38235</td>\n",
       "      <td>Inazuma Eleven: Orion no Kokuin</td>\n",
       "      <td>6.79</td>\n",
       "      <td>[Sports]</td>\n",
       "      <td>TV</td>\n",
       "      <td>49</td>\n",
       "      <td>Fall 2018</td>\n",
       "      <td>[OLM]</td>\n",
       "      <td>Game</td>\n",
       "      <td>G - All Ages</td>\n",
       "      <td>15200</td>\n",
       "    </tr>\n",
       "    <tr>\n",
       "      <th>12038</th>\n",
       "      <td>33733</td>\n",
       "      <td>Inazuma Eleven: Ares no Tenbin</td>\n",
       "      <td>6.68</td>\n",
       "      <td>[Sports]</td>\n",
       "      <td>TV</td>\n",
       "      <td>26</td>\n",
       "      <td>Spring 2018</td>\n",
       "      <td>[OLM]</td>\n",
       "      <td>Game</td>\n",
       "      <td>G - All Ages</td>\n",
       "      <td>24740</td>\n",
       "    </tr>\n",
       "    <tr>\n",
       "      <th>6243</th>\n",
       "      <td>10507</td>\n",
       "      <td>Inazuma Eleven Go</td>\n",
       "      <td>6.98</td>\n",
       "      <td>[Shounen,  Sports,  Super Power]</td>\n",
       "      <td>TV</td>\n",
       "      <td>47</td>\n",
       "      <td>Spring 2011</td>\n",
       "      <td>[OLM]</td>\n",
       "      <td>Game</td>\n",
       "      <td>G - All Ages</td>\n",
       "      <td>54307</td>\n",
       "    </tr>\n",
       "    <tr>\n",
       "      <th>7818</th>\n",
       "      <td>18097</td>\n",
       "      <td>Inazuma Eleven Go: Galaxy</td>\n",
       "      <td>6.65</td>\n",
       "      <td>[Shounen,  Sports,  Super Power]</td>\n",
       "      <td>TV</td>\n",
       "      <td>43</td>\n",
       "      <td>Spring 2013</td>\n",
       "      <td>[OLM]</td>\n",
       "      <td>Game</td>\n",
       "      <td>G - All Ages</td>\n",
       "      <td>31602</td>\n",
       "    </tr>\n",
       "    <tr>\n",
       "      <th>6461</th>\n",
       "      <td>10999</td>\n",
       "      <td>Inazuma Eleven Go: Kyuukyoku no Kizuna Gryphon</td>\n",
       "      <td>7.41</td>\n",
       "      <td>[Sci-Fi,  Sports,  Super Power,  Shounen]</td>\n",
       "      <td>Movie</td>\n",
       "      <td>1</td>\n",
       "      <td>Unknown</td>\n",
       "      <td>[OLM]</td>\n",
       "      <td>Game</td>\n",
       "      <td>G - All Ages</td>\n",
       "      <td>11451</td>\n",
       "    </tr>\n",
       "    <tr>\n",
       "      <th>14501</th>\n",
       "      <td>37814</td>\n",
       "      <td>Inazuma Eleven: Reloaded - Soccer no Henkaku</td>\n",
       "      <td>6.99</td>\n",
       "      <td>[Sports]</td>\n",
       "      <td>Special</td>\n",
       "      <td>1</td>\n",
       "      <td>Unknown</td>\n",
       "      <td>[OLM]</td>\n",
       "      <td>Game</td>\n",
       "      <td>G - All Ages</td>\n",
       "      <td>4106</td>\n",
       "    </tr>\n",
       "  </tbody>\n",
       "</table>\n",
       "</div>"
      ],
      "text/plain": [
       "       MAL_ID                                            Name  Score  \\\n",
       "6939    13261                 Inazuma Eleven Go: Chrono Stone   7.17   \n",
       "9124    24347          Inazuma Eleven: Chou Jigen Dream Match   6.94   \n",
       "6785    12585                      Inazuma Eleven Go Specials   6.69   \n",
       "14796   38235                 Inazuma Eleven: Orion no Kokuin   6.79   \n",
       "12038   33733                  Inazuma Eleven: Ares no Tenbin   6.68   \n",
       "6243    10507                               Inazuma Eleven Go   6.98   \n",
       "7818    18097                       Inazuma Eleven Go: Galaxy   6.65   \n",
       "6461    10999  Inazuma Eleven Go: Kyuukyoku no Kizuna Gryphon   7.41   \n",
       "14501   37814    Inazuma Eleven: Reloaded - Soccer no Henkaku   6.99   \n",
       "\n",
       "                                          Genres     Type  Episodes  \\\n",
       "6939            [Sports,  Super Power,  Shounen]       TV        51   \n",
       "9124            [Sports,  Super Power,  Shounen]    Movie         1   \n",
       "6785            [Sports,  Super Power,  Shounen]  Special         2   \n",
       "14796                                   [Sports]       TV        49   \n",
       "12038                                   [Sports]       TV        26   \n",
       "6243            [Shounen,  Sports,  Super Power]       TV        47   \n",
       "7818            [Shounen,  Sports,  Super Power]       TV        43   \n",
       "6461   [Sci-Fi,  Sports,  Super Power,  Shounen]    Movie         1   \n",
       "14501                                   [Sports]  Special         1   \n",
       "\n",
       "         Premiered Studios   Source        Rating  Members  \n",
       "6939   Spring 2012   [OLM]     Game  G - All Ages    38045  \n",
       "9124       Unknown   [OLM]     Game  G - All Ages     7384  \n",
       "6785       Unknown   [OLM]  Unknown  G - All Ages     4743  \n",
       "14796    Fall 2018   [OLM]     Game  G - All Ages    15200  \n",
       "12038  Spring 2018   [OLM]     Game  G - All Ages    24740  \n",
       "6243   Spring 2011   [OLM]     Game  G - All Ages    54307  \n",
       "7818   Spring 2013   [OLM]     Game  G - All Ages    31602  \n",
       "6461       Unknown   [OLM]     Game  G - All Ages    11451  \n",
       "14501      Unknown   [OLM]     Game  G - All Ages     4106  "
      ]
     },
     "execution_count": 16,
     "metadata": {},
     "output_type": "execute_result"
    }
   ],
   "source": [
    "reduced_all_data = PCA(n_components=250).fit_transform(all_data)\n",
    "get_recommended(reduced_all_data, query_index, 10)"
   ]
  },
  {
   "cell_type": "markdown",
   "id": "21fe1d46",
   "metadata": {
    "papermill": {
     "duration": 0.040937,
     "end_time": "2021-08-20T14:11:40.075579",
     "exception": false,
     "start_time": "2021-08-20T14:11:40.034642",
     "status": "completed"
    },
    "tags": []
   },
   "source": [
    "# 3.2. Recommendations using Collaborative Filtering"
   ]
  },
  {
   "cell_type": "markdown",
   "id": "f6be0b57",
   "metadata": {
    "papermill": {
     "duration": 0.040187,
     "end_time": "2021-08-20T14:11:40.157027",
     "exception": false,
     "start_time": "2021-08-20T14:11:40.116840",
     "status": "completed"
    },
    "tags": []
   },
   "source": [
    "* #### Preparing Data for Collaborating Filtering"
   ]
  },
  {
   "cell_type": "code",
   "execution_count": 17,
   "id": "8479877a",
   "metadata": {
    "execution": {
     "iopub.execute_input": "2021-08-20T14:11:40.245178Z",
     "iopub.status.busy": "2021-08-20T14:11:40.244141Z",
     "iopub.status.idle": "2021-08-20T14:11:41.570319Z",
     "shell.execute_reply": "2021-08-20T14:11:41.570852Z",
     "shell.execute_reply.started": "2021-08-20T14:06:21.159298Z"
    },
    "papermill": {
     "duration": 1.373511,
     "end_time": "2021-08-20T14:11:41.571018",
     "exception": false,
     "start_time": "2021-08-20T14:11:40.197507",
     "status": "completed"
    },
    "tags": []
   },
   "outputs": [
    {
     "name": "stdout",
     "output_type": "stream",
     "text": [
      "(310059, 2)\n",
      "56515\n"
     ]
    }
   ],
   "source": [
    "users_count = rating_data.groupby(\"user_id\").size().reset_index()\n",
    "users_count.columns = [\"user_id\", \"anime_count\"]\n",
    "\n",
    "print(users_count.shape)\n",
    "\n",
    "filtered_users = users_count[users_count.anime_count >= 300]\n",
    "users = set(filtered_users.user_id)\n",
    "\n",
    "print(len(users))"
   ]
  },
  {
   "cell_type": "code",
   "execution_count": 18,
   "id": "0c30740d",
   "metadata": {
    "execution": {
     "iopub.execute_input": "2021-08-20T14:11:41.676979Z",
     "iopub.status.busy": "2021-08-20T14:11:41.675887Z",
     "iopub.status.idle": "2021-08-20T14:11:43.056088Z",
     "shell.execute_reply": "2021-08-20T14:11:43.056579Z",
     "shell.execute_reply.started": "2021-08-20T14:06:22.868757Z"
    },
    "papermill": {
     "duration": 1.445235,
     "end_time": "2021-08-20T14:11:43.056743",
     "exception": false,
     "start_time": "2021-08-20T14:11:41.611508",
     "status": "completed"
    },
    "tags": []
   },
   "outputs": [
    {
     "name": "stdout",
     "output_type": "stream",
     "text": [
      "rating_data.shape: (31885564, 3)\n",
      "<class 'pandas.core.frame.DataFrame'>\n",
      "Int64Index: 31885564 entries, 189 to 57633032\n",
      "Data columns (total 3 columns):\n",
      " #   Column    Dtype\n",
      "---  ------    -----\n",
      " 0   user_id   int64\n",
      " 1   anime_id  int64\n",
      " 2   rating    int64\n",
      "dtypes: int64(3)\n",
      "memory usage: 973.1 MB\n",
      "None\n"
     ]
    }
   ],
   "source": [
    "rating_data = rating_data[rating_data.user_id.isin(users)]\n",
    "print (\"rating_data.shape:\", rating_data.shape)\n",
    "print (rating_data.info())"
   ]
  },
  {
   "cell_type": "code",
   "execution_count": 19,
   "id": "05db597c",
   "metadata": {
    "execution": {
     "iopub.execute_input": "2021-08-20T14:11:43.145763Z",
     "iopub.status.busy": "2021-08-20T14:11:43.145104Z",
     "iopub.status.idle": "2021-08-20T14:13:47.313805Z",
     "shell.execute_reply": "2021-08-20T14:13:47.313034Z",
     "shell.execute_reply.started": "2021-08-20T14:06:24.752753Z"
    },
    "papermill": {
     "duration": 124.215962,
     "end_time": "2021-08-20T14:13:47.313964",
     "exception": false,
     "start_time": "2021-08-20T14:11:43.098002",
     "status": "completed"
    },
    "tags": []
   },
   "outputs": [
    {
     "name": "stdout",
     "output_type": "stream",
     "text": [
      "17562 56515\n"
     ]
    }
   ],
   "source": [
    "unique_users = {int(x): i for i,x in enumerate(rating_data.user_id.unique())}\n",
    "unique_items = {int(x): i for i,x in enumerate(anime_recom.MAL_ID.unique())}\n",
    "print(len(unique_items), len(unique_users))\n",
    "\n",
    "anime_collabolative_filter = np.zeros((len(unique_items), len(unique_users)))\n",
    "\n",
    "for user_id, anime_id, rating in rating_data.values:\n",
    "    anime_collabolative_filter[unique_items[anime_id], unique_users[user_id]] = rating"
   ]
  },
  {
   "cell_type": "markdown",
   "id": "d49ec7fd",
   "metadata": {
    "papermill": {
     "duration": 0.04104,
     "end_time": "2021-08-20T14:13:47.396876",
     "exception": false,
     "start_time": "2021-08-20T14:13:47.355836",
     "status": "completed"
    },
    "tags": []
   },
   "source": [
    "* #### Recommendation based on Colaborative Filtering"
   ]
  },
  {
   "cell_type": "code",
   "execution_count": 20,
   "id": "51c1a9bb",
   "metadata": {
    "execution": {
     "iopub.execute_input": "2021-08-20T14:13:47.484442Z",
     "iopub.status.busy": "2021-08-20T14:13:47.483828Z",
     "iopub.status.idle": "2021-08-20T14:13:57.511058Z",
     "shell.execute_reply": "2021-08-20T14:13:57.511543Z",
     "shell.execute_reply.started": "2021-08-20T14:08:38.916797Z"
    },
    "papermill": {
     "duration": 10.073432,
     "end_time": "2021-08-20T14:13:57.511721",
     "exception": false,
     "start_time": "2021-08-20T14:13:47.438289",
     "status": "completed"
    },
    "tags": []
   },
   "outputs": [
    {
     "data": {
      "text/html": [
       "<div>\n",
       "<style scoped>\n",
       "    .dataframe tbody tr th:only-of-type {\n",
       "        vertical-align: middle;\n",
       "    }\n",
       "\n",
       "    .dataframe tbody tr th {\n",
       "        vertical-align: top;\n",
       "    }\n",
       "\n",
       "    .dataframe thead th {\n",
       "        text-align: right;\n",
       "    }\n",
       "</style>\n",
       "<table border=\"1\" class=\"dataframe\">\n",
       "  <thead>\n",
       "    <tr style=\"text-align: right;\">\n",
       "      <th></th>\n",
       "      <th>MAL_ID</th>\n",
       "      <th>Name</th>\n",
       "      <th>Score</th>\n",
       "      <th>Genres</th>\n",
       "      <th>Type</th>\n",
       "      <th>Episodes</th>\n",
       "      <th>Premiered</th>\n",
       "      <th>Studios</th>\n",
       "      <th>Source</th>\n",
       "      <th>Rating</th>\n",
       "      <th>Members</th>\n",
       "    </tr>\n",
       "  </thead>\n",
       "  <tbody>\n",
       "    <tr>\n",
       "      <th>6243</th>\n",
       "      <td>10507</td>\n",
       "      <td>Inazuma Eleven Go</td>\n",
       "      <td>6.98</td>\n",
       "      <td>[Shounen,  Sports,  Super Power]</td>\n",
       "      <td>TV</td>\n",
       "      <td>47</td>\n",
       "      <td>Spring 2011</td>\n",
       "      <td>[OLM]</td>\n",
       "      <td>Game</td>\n",
       "      <td>G - All Ages</td>\n",
       "      <td>54307</td>\n",
       "    </tr>\n",
       "    <tr>\n",
       "      <th>6939</th>\n",
       "      <td>13261</td>\n",
       "      <td>Inazuma Eleven Go: Chrono Stone</td>\n",
       "      <td>7.17</td>\n",
       "      <td>[Sports,  Super Power,  Shounen]</td>\n",
       "      <td>TV</td>\n",
       "      <td>51</td>\n",
       "      <td>Spring 2012</td>\n",
       "      <td>[OLM]</td>\n",
       "      <td>Game</td>\n",
       "      <td>G - All Ages</td>\n",
       "      <td>38045</td>\n",
       "    </tr>\n",
       "    <tr>\n",
       "      <th>7818</th>\n",
       "      <td>18097</td>\n",
       "      <td>Inazuma Eleven Go: Galaxy</td>\n",
       "      <td>6.65</td>\n",
       "      <td>[Shounen,  Sports,  Super Power]</td>\n",
       "      <td>TV</td>\n",
       "      <td>43</td>\n",
       "      <td>Spring 2013</td>\n",
       "      <td>[OLM]</td>\n",
       "      <td>Game</td>\n",
       "      <td>G - All Ages</td>\n",
       "      <td>31602</td>\n",
       "    </tr>\n",
       "    <tr>\n",
       "      <th>5617</th>\n",
       "      <td>9032</td>\n",
       "      <td>Inazuma Eleven: Saikyou Gundan Ogre Shuurai</td>\n",
       "      <td>7.32</td>\n",
       "      <td>[Shounen,  Sports,  Super Power]</td>\n",
       "      <td>Movie</td>\n",
       "      <td>1</td>\n",
       "      <td>Unknown</td>\n",
       "      <td>[OLM]</td>\n",
       "      <td>Unknown</td>\n",
       "      <td>G - All Ages</td>\n",
       "      <td>19711</td>\n",
       "    </tr>\n",
       "    <tr>\n",
       "      <th>6461</th>\n",
       "      <td>10999</td>\n",
       "      <td>Inazuma Eleven Go: Kyuukyoku no Kizuna Gryphon</td>\n",
       "      <td>7.41</td>\n",
       "      <td>[Sci-Fi,  Sports,  Super Power,  Shounen]</td>\n",
       "      <td>Movie</td>\n",
       "      <td>1</td>\n",
       "      <td>Unknown</td>\n",
       "      <td>[OLM]</td>\n",
       "      <td>Game</td>\n",
       "      <td>G - All Ages</td>\n",
       "      <td>11451</td>\n",
       "    </tr>\n",
       "    <tr>\n",
       "      <th>12038</th>\n",
       "      <td>33733</td>\n",
       "      <td>Inazuma Eleven: Ares no Tenbin</td>\n",
       "      <td>6.68</td>\n",
       "      <td>[Sports]</td>\n",
       "      <td>TV</td>\n",
       "      <td>26</td>\n",
       "      <td>Spring 2018</td>\n",
       "      <td>[OLM]</td>\n",
       "      <td>Game</td>\n",
       "      <td>G - All Ages</td>\n",
       "      <td>24740</td>\n",
       "    </tr>\n",
       "    <tr>\n",
       "      <th>7318</th>\n",
       "      <td>15785</td>\n",
       "      <td>Inazuma Eleven Go vs. Danball Senki W Movie</td>\n",
       "      <td>7.04</td>\n",
       "      <td>[Action,  Kids,  Mecha,  Sports]</td>\n",
       "      <td>Movie</td>\n",
       "      <td>1</td>\n",
       "      <td>Unknown</td>\n",
       "      <td>[OLM]</td>\n",
       "      <td>Unknown</td>\n",
       "      <td>G - All Ages</td>\n",
       "      <td>9338</td>\n",
       "    </tr>\n",
       "    <tr>\n",
       "      <th>9124</th>\n",
       "      <td>24347</td>\n",
       "      <td>Inazuma Eleven: Chou Jigen Dream Match</td>\n",
       "      <td>6.94</td>\n",
       "      <td>[Sports,  Super Power,  Shounen]</td>\n",
       "      <td>Movie</td>\n",
       "      <td>1</td>\n",
       "      <td>Unknown</td>\n",
       "      <td>[OLM]</td>\n",
       "      <td>Game</td>\n",
       "      <td>G - All Ages</td>\n",
       "      <td>7384</td>\n",
       "    </tr>\n",
       "    <tr>\n",
       "      <th>14796</th>\n",
       "      <td>38235</td>\n",
       "      <td>Inazuma Eleven: Orion no Kokuin</td>\n",
       "      <td>6.79</td>\n",
       "      <td>[Sports]</td>\n",
       "      <td>TV</td>\n",
       "      <td>49</td>\n",
       "      <td>Fall 2018</td>\n",
       "      <td>[OLM]</td>\n",
       "      <td>Game</td>\n",
       "      <td>G - All Ages</td>\n",
       "      <td>15200</td>\n",
       "    </tr>\n",
       "  </tbody>\n",
       "</table>\n",
       "</div>"
      ],
      "text/plain": [
       "       MAL_ID                                            Name  Score  \\\n",
       "6243    10507                               Inazuma Eleven Go   6.98   \n",
       "6939    13261                 Inazuma Eleven Go: Chrono Stone   7.17   \n",
       "7818    18097                       Inazuma Eleven Go: Galaxy   6.65   \n",
       "5617     9032     Inazuma Eleven: Saikyou Gundan Ogre Shuurai   7.32   \n",
       "6461    10999  Inazuma Eleven Go: Kyuukyoku no Kizuna Gryphon   7.41   \n",
       "12038   33733                  Inazuma Eleven: Ares no Tenbin   6.68   \n",
       "7318    15785     Inazuma Eleven Go vs. Danball Senki W Movie   7.04   \n",
       "9124    24347          Inazuma Eleven: Chou Jigen Dream Match   6.94   \n",
       "14796   38235                 Inazuma Eleven: Orion no Kokuin   6.79   \n",
       "\n",
       "                                          Genres   Type  Episodes  \\\n",
       "6243            [Shounen,  Sports,  Super Power]     TV        47   \n",
       "6939            [Sports,  Super Power,  Shounen]     TV        51   \n",
       "7818            [Shounen,  Sports,  Super Power]     TV        43   \n",
       "5617            [Shounen,  Sports,  Super Power]  Movie         1   \n",
       "6461   [Sci-Fi,  Sports,  Super Power,  Shounen]  Movie         1   \n",
       "12038                                   [Sports]     TV        26   \n",
       "7318            [Action,  Kids,  Mecha,  Sports]  Movie         1   \n",
       "9124            [Sports,  Super Power,  Shounen]  Movie         1   \n",
       "14796                                   [Sports]     TV        49   \n",
       "\n",
       "         Premiered Studios   Source        Rating  Members  \n",
       "6243   Spring 2011   [OLM]     Game  G - All Ages    54307  \n",
       "6939   Spring 2012   [OLM]     Game  G - All Ages    38045  \n",
       "7818   Spring 2013   [OLM]     Game  G - All Ages    31602  \n",
       "5617       Unknown   [OLM]  Unknown  G - All Ages    19711  \n",
       "6461       Unknown   [OLM]     Game  G - All Ages    11451  \n",
       "12038  Spring 2018   [OLM]     Game  G - All Ages    24740  \n",
       "7318       Unknown   [OLM]  Unknown  G - All Ages     9338  \n",
       "9124       Unknown   [OLM]     Game  G - All Ages     7384  \n",
       "14796    Fall 2018   [OLM]     Game  G - All Ages    15200  "
      ]
     },
     "execution_count": 20,
     "metadata": {},
     "output_type": "execute_result"
    }
   ],
   "source": [
    "get_recommended(anime_collabolative_filter, query_index, 10)"
   ]
  },
  {
   "cell_type": "markdown",
   "id": "91a115d8",
   "metadata": {
    "papermill": {
     "duration": 0.041682,
     "end_time": "2021-08-20T14:13:57.594654",
     "exception": false,
     "start_time": "2021-08-20T14:13:57.552972",
     "status": "completed"
    },
    "tags": []
   },
   "source": [
    "# 3.3. Recommendation based on Similarity"
   ]
  },
  {
   "cell_type": "code",
   "execution_count": 21,
   "id": "37bf2e9a",
   "metadata": {
    "execution": {
     "iopub.execute_input": "2021-08-20T14:13:57.685794Z",
     "iopub.status.busy": "2021-08-20T14:13:57.684981Z",
     "iopub.status.idle": "2021-08-20T14:14:02.764060Z",
     "shell.execute_reply": "2021-08-20T14:14:02.763570Z",
     "shell.execute_reply.started": "2021-08-20T14:08:50.397026Z"
    },
    "papermill": {
     "duration": 5.127566,
     "end_time": "2021-08-20T14:14:02.764196",
     "exception": false,
     "start_time": "2021-08-20T14:13:57.636630",
     "status": "completed"
    },
    "tags": []
   },
   "outputs": [
    {
     "data": {
      "text/html": [
       "<div>\n",
       "<style scoped>\n",
       "    .dataframe tbody tr th:only-of-type {\n",
       "        vertical-align: middle;\n",
       "    }\n",
       "\n",
       "    .dataframe tbody tr th {\n",
       "        vertical-align: top;\n",
       "    }\n",
       "\n",
       "    .dataframe thead th {\n",
       "        text-align: right;\n",
       "    }\n",
       "</style>\n",
       "<table border=\"1\" class=\"dataframe\">\n",
       "  <thead>\n",
       "    <tr style=\"text-align: right;\">\n",
       "      <th></th>\n",
       "      <th>user_id</th>\n",
       "      <th>rating</th>\n",
       "      <th>Name</th>\n",
       "    </tr>\n",
       "  </thead>\n",
       "  <tbody>\n",
       "    <tr>\n",
       "      <th>0</th>\n",
       "      <td>3</td>\n",
       "      <td>8</td>\n",
       "      <td>Shirobako</td>\n",
       "    </tr>\n",
       "    <tr>\n",
       "      <th>1</th>\n",
       "      <td>17</td>\n",
       "      <td>8</td>\n",
       "      <td>Shirobako</td>\n",
       "    </tr>\n",
       "    <tr>\n",
       "      <th>2</th>\n",
       "      <td>44</td>\n",
       "      <td>9</td>\n",
       "      <td>Shirobako</td>\n",
       "    </tr>\n",
       "    <tr>\n",
       "      <th>3</th>\n",
       "      <td>46</td>\n",
       "      <td>8</td>\n",
       "      <td>Shirobako</td>\n",
       "    </tr>\n",
       "    <tr>\n",
       "      <th>4</th>\n",
       "      <td>110</td>\n",
       "      <td>10</td>\n",
       "      <td>Shirobako</td>\n",
       "    </tr>\n",
       "  </tbody>\n",
       "</table>\n",
       "</div>"
      ],
      "text/plain": [
       "   user_id  rating       Name\n",
       "0        3       8  Shirobako\n",
       "1       17       8  Shirobako\n",
       "2       44       9  Shirobako\n",
       "3       46       8  Shirobako\n",
       "4      110      10  Shirobako"
      ]
     },
     "execution_count": 21,
     "metadata": {},
     "output_type": "execute_result"
    }
   ],
   "source": [
    "df = pd.merge(rating_data,anime[[\"anime_id\",\"Name\"]], left_on = \"anime_id\", right_on = \"anime_id\").drop(\"anime_id\", axis = 1)\n",
    "df.head()"
   ]
  },
  {
   "cell_type": "code",
   "execution_count": 22,
   "id": "46f9efea",
   "metadata": {
    "execution": {
     "iopub.execute_input": "2021-08-20T14:14:04.723077Z",
     "iopub.status.busy": "2021-08-20T14:14:03.314834Z",
     "iopub.status.idle": "2021-08-20T14:14:06.695853Z",
     "shell.execute_reply": "2021-08-20T14:14:06.696310Z",
     "shell.execute_reply.started": "2021-08-20T14:08:57.366909Z"
    },
    "papermill": {
     "duration": 3.889532,
     "end_time": "2021-08-20T14:14:06.696495",
     "exception": false,
     "start_time": "2021-08-20T14:14:02.806963",
     "status": "completed"
    },
    "tags": []
   },
   "outputs": [
    {
     "data": {
      "text/plain": [
       "Name\n",
       "Shingeki no Kyojin                     47232\n",
       "Sword Art Online                       47160\n",
       "Angel Beats!                           45900\n",
       "Death Note                             44885\n",
       "Toradora!                              44265\n",
       "                                       ...  \n",
       "Nendjuugyouji Animation Series             1\n",
       "Oshiete Hokusai! The Animation             1\n",
       "Baolie Feiche II: Xing Neng Juexing        1\n",
       "Doraon Yeongung Hong Gildong               1\n",
       "Black Clover                               1\n",
       "Name: rating, Length: 16846, dtype: int64"
      ]
     },
     "execution_count": 22,
     "metadata": {},
     "output_type": "execute_result"
    }
   ],
   "source": [
    "count_rating = df.groupby(\"Name\")[\"rating\"].count().sort_values(ascending = False)\n",
    "count_rating"
   ]
  },
  {
   "cell_type": "markdown",
   "id": "31adc3e3",
   "metadata": {
    "papermill": {
     "duration": 0.042223,
     "end_time": "2021-08-20T14:14:06.781755",
     "exception": false,
     "start_time": "2021-08-20T14:14:06.739532",
     "status": "completed"
    },
    "tags": []
   },
   "source": [
    "* #### Keeping only the animes with at least r ratings in the DataFrame"
   ]
  },
  {
   "cell_type": "code",
   "execution_count": 23,
   "id": "48fda6eb",
   "metadata": {
    "execution": {
     "iopub.execute_input": "2021-08-20T14:14:07.402713Z",
     "iopub.status.busy": "2021-08-20T14:14:07.234204Z",
     "iopub.status.idle": "2021-08-20T14:14:34.048673Z",
     "shell.execute_reply": "2021-08-20T14:14:34.048039Z",
     "shell.execute_reply.started": "2021-08-20T14:09:01.590476Z"
    },
    "papermill": {
     "duration": 27.224323,
     "end_time": "2021-08-20T14:14:34.048837",
     "exception": false,
     "start_time": "2021-08-20T14:14:06.824514",
     "status": "completed"
    },
    "tags": []
   },
   "outputs": [],
   "source": [
    "r = 10000\n",
    "more_than_r_ratings = count_rating[count_rating.apply(lambda x: x >= r)].index\n",
    "\n",
    "df_r = df[df['Name'].apply(lambda x: x in more_than_r_ratings)]"
   ]
  },
  {
   "cell_type": "code",
   "execution_count": 24,
   "id": "4ecee5bd",
   "metadata": {
    "execution": {
     "iopub.execute_input": "2021-08-20T14:14:34.150728Z",
     "iopub.status.busy": "2021-08-20T14:14:34.149917Z",
     "iopub.status.idle": "2021-08-20T14:14:34.153125Z",
     "shell.execute_reply": "2021-08-20T14:14:34.153583Z",
     "shell.execute_reply.started": "2021-08-20T14:09:29.316769Z"
    },
    "papermill": {
     "duration": 0.059734,
     "end_time": "2021-08-20T14:14:34.153780",
     "exception": false,
     "start_time": "2021-08-20T14:14:34.094046",
     "status": "completed"
    },
    "tags": []
   },
   "outputs": [
    {
     "name": "stdout",
     "output_type": "stream",
     "text": [
      "<class 'pandas.core.frame.DataFrame'>\n",
      "Int64Index: 15996633 entries, 0 to 31094881\n",
      "Data columns (total 3 columns):\n",
      " #   Column   Dtype \n",
      "---  ------   ----- \n",
      " 0   user_id  int64 \n",
      " 1   rating   int64 \n",
      " 2   Name     object\n",
      "dtypes: int64(2), object(1)\n",
      "memory usage: 488.2+ MB\n"
     ]
    }
   ],
   "source": [
    "df_r.info()"
   ]
  },
  {
   "cell_type": "markdown",
   "id": "b67f888b",
   "metadata": {
    "papermill": {
     "duration": 0.045013,
     "end_time": "2021-08-20T14:14:34.243816",
     "exception": false,
     "start_time": "2021-08-20T14:14:34.198803",
     "status": "completed"
    },
    "tags": []
   },
   "source": [
    "* #### Creating a pivot table for recommendation"
   ]
  },
  {
   "cell_type": "code",
   "execution_count": 25,
   "id": "e406ef9d",
   "metadata": {
    "execution": {
     "iopub.execute_input": "2021-08-20T14:14:34.381691Z",
     "iopub.status.busy": "2021-08-20T14:14:34.380941Z",
     "iopub.status.idle": "2021-08-20T14:14:55.302271Z",
     "shell.execute_reply": "2021-08-20T14:14:55.301782Z",
     "shell.execute_reply.started": "2021-08-20T14:09:29.335091Z"
    },
    "papermill": {
     "duration": 21.013806,
     "end_time": "2021-08-20T14:14:55.302405",
     "exception": false,
     "start_time": "2021-08-20T14:14:34.288599",
     "status": "completed"
    },
    "tags": []
   },
   "outputs": [
    {
     "data": {
      "text/html": [
       "<div>\n",
       "<style scoped>\n",
       "    .dataframe tbody tr th:only-of-type {\n",
       "        vertical-align: middle;\n",
       "    }\n",
       "\n",
       "    .dataframe tbody tr th {\n",
       "        vertical-align: top;\n",
       "    }\n",
       "\n",
       "    .dataframe thead th {\n",
       "        text-align: right;\n",
       "    }\n",
       "</style>\n",
       "<table border=\"1\" class=\"dataframe\">\n",
       "  <thead>\n",
       "    <tr style=\"text-align: right;\">\n",
       "      <th>Name</th>\n",
       "      <th>11eyes</th>\n",
       "      <th>3-gatsu no Lion</th>\n",
       "      <th>3-gatsu no Lion 2nd Season</th>\n",
       "      <th>5-toubun no Hanayome</th>\n",
       "      <th>91 Days</th>\n",
       "    </tr>\n",
       "    <tr>\n",
       "      <th>user_id</th>\n",
       "      <th></th>\n",
       "      <th></th>\n",
       "      <th></th>\n",
       "      <th></th>\n",
       "      <th></th>\n",
       "    </tr>\n",
       "  </thead>\n",
       "  <tbody>\n",
       "    <tr>\n",
       "      <th>3</th>\n",
       "      <td>NaN</td>\n",
       "      <td>9.0</td>\n",
       "      <td>NaN</td>\n",
       "      <td>NaN</td>\n",
       "      <td>8.0</td>\n",
       "    </tr>\n",
       "    <tr>\n",
       "      <th>6</th>\n",
       "      <td>7.0</td>\n",
       "      <td>NaN</td>\n",
       "      <td>NaN</td>\n",
       "      <td>NaN</td>\n",
       "      <td>NaN</td>\n",
       "    </tr>\n",
       "    <tr>\n",
       "      <th>17</th>\n",
       "      <td>10.0</td>\n",
       "      <td>NaN</td>\n",
       "      <td>NaN</td>\n",
       "      <td>NaN</td>\n",
       "      <td>9.0</td>\n",
       "    </tr>\n",
       "    <tr>\n",
       "      <th>19</th>\n",
       "      <td>NaN</td>\n",
       "      <td>7.0</td>\n",
       "      <td>7.0</td>\n",
       "      <td>NaN</td>\n",
       "      <td>NaN</td>\n",
       "    </tr>\n",
       "    <tr>\n",
       "      <th>21</th>\n",
       "      <td>8.0</td>\n",
       "      <td>NaN</td>\n",
       "      <td>NaN</td>\n",
       "      <td>NaN</td>\n",
       "      <td>NaN</td>\n",
       "    </tr>\n",
       "  </tbody>\n",
       "</table>\n",
       "</div>"
      ],
      "text/plain": [
       "Name     11eyes  3-gatsu no Lion  3-gatsu no Lion 2nd Season  \\\n",
       "user_id                                                        \n",
       "3           NaN              9.0                         NaN   \n",
       "6           7.0              NaN                         NaN   \n",
       "17         10.0              NaN                         NaN   \n",
       "19          NaN              7.0                         7.0   \n",
       "21          8.0              NaN                         NaN   \n",
       "\n",
       "Name     5-toubun no Hanayome  91 Days  \n",
       "user_id                                 \n",
       "3                         NaN      8.0  \n",
       "6                         NaN      NaN  \n",
       "17                        NaN      9.0  \n",
       "19                        NaN      NaN  \n",
       "21                        NaN      NaN  "
      ]
     },
     "execution_count": 25,
     "metadata": {},
     "output_type": "execute_result"
    }
   ],
   "source": [
    "df_recom = df_r.pivot_table(index='user_id',columns='Name',values='rating')\n",
    "df_recom.iloc[:5,:5]"
   ]
  },
  {
   "cell_type": "code",
   "execution_count": 26,
   "id": "d24e7bca",
   "metadata": {
    "execution": {
     "iopub.execute_input": "2021-08-20T14:14:58.787943Z",
     "iopub.status.busy": "2021-08-20T14:14:58.787295Z",
     "iopub.status.idle": "2021-08-20T14:14:58.803534Z",
     "shell.execute_reply": "2021-08-20T14:14:58.802996Z",
     "shell.execute_reply.started": "2021-08-20T14:09:56.387385Z"
    },
    "papermill": {
     "duration": 3.457547,
     "end_time": "2021-08-20T14:14:58.803680",
     "exception": false,
     "start_time": "2021-08-20T14:14:55.346133",
     "status": "completed"
    },
    "tags": []
   },
   "outputs": [
    {
     "data": {
      "text/plain": [
       "Shingeki no Kyojin                  47232\n",
       "Sword Art Online                    47160\n",
       "Angel Beats!                        45900\n",
       "Death Note                          44885\n",
       "Toradora!                           44265\n",
       "One Punch Man                       43896\n",
       "No Game No Life                     43786\n",
       "Code Geass: Hangyaku no Lelouch     42826\n",
       "Steins;Gate                         41425\n",
       "Fullmetal Alchemist: Brotherhood    40803\n",
       "Name: Name, dtype: int64"
      ]
     },
     "execution_count": 26,
     "metadata": {},
     "output_type": "execute_result"
    }
   ],
   "source": [
    "df_r.Name.value_counts().head(10)"
   ]
  },
  {
   "cell_type": "markdown",
   "id": "79cd2fff",
   "metadata": {
    "papermill": {
     "duration": 0.043971,
     "end_time": "2021-08-20T14:14:58.893041",
     "exception": false,
     "start_time": "2021-08-20T14:14:58.849070",
     "status": "completed"
    },
    "tags": []
   },
   "source": [
    "\n",
    "* #### Creating a function to get the correlation of one anime with others.\n",
    "    \n"
   ]
  },
  {
   "cell_type": "code",
   "execution_count": 27,
   "id": "b15ca35f",
   "metadata": {
    "execution": {
     "iopub.execute_input": "2021-08-20T14:14:58.984913Z",
     "iopub.status.busy": "2021-08-20T14:14:58.984242Z",
     "iopub.status.idle": "2021-08-20T14:14:58.988988Z",
     "shell.execute_reply": "2021-08-20T14:14:58.989482Z",
     "shell.execute_reply.started": "2021-08-20T14:09:59.922039Z"
    },
    "papermill": {
     "duration": 0.05224,
     "end_time": "2021-08-20T14:14:58.989652",
     "exception": false,
     "start_time": "2021-08-20T14:14:58.937412",
     "status": "completed"
    },
    "tags": []
   },
   "outputs": [],
   "source": [
    "def find_corr(df, name):\n",
    "\n",
    "    similar_to_movie = df.corrwith(df[name])\n",
    "    similar_to_movie = pd.DataFrame(similar_to_movie,columns=['Correlation'])\n",
    "    similar_to_movie = similar_to_movie.sort_values(by = 'Correlation', ascending = False)\n",
    "    return similar_to_movie"
   ]
  },
  {
   "cell_type": "markdown",
   "id": "509ab739",
   "metadata": {
    "papermill": {
     "duration": 0.044606,
     "end_time": "2021-08-20T14:14:59.079504",
     "exception": false,
     "start_time": "2021-08-20T14:14:59.034898",
     "status": "completed"
    },
    "tags": []
   },
   "source": [
    "* #### Arguments to the function are :\n",
    "    1.   ####   df (DataFrame):  with user_id as rows and movie titles as column and ratings as values\n",
    "    1.   ####   name (str): Name of the anime\n",
    "    \n",
    "* #### And it Returns a DataFrame with the correlation of the anime with all others\n",
    "        "
   ]
  },
  {
   "cell_type": "markdown",
   "id": "0e354af1",
   "metadata": {
    "papermill": {
     "duration": 0.043695,
     "end_time": "2021-08-20T14:14:59.167436",
     "exception": false,
     "start_time": "2021-08-20T14:14:59.123741",
     "status": "completed"
    },
    "tags": []
   },
   "source": [
    " ## Choose an Anime "
   ]
  },
  {
   "cell_type": "code",
   "execution_count": 28,
   "id": "a9c8ffbc",
   "metadata": {
    "execution": {
     "iopub.execute_input": "2021-08-20T14:14:59.260919Z",
     "iopub.status.busy": "2021-08-20T14:14:59.260164Z",
     "iopub.status.idle": "2021-08-20T14:15:00.683298Z",
     "shell.execute_reply": "2021-08-20T14:15:00.682781Z",
     "shell.execute_reply.started": "2021-08-20T14:09:59.932276Z"
    },
    "papermill": {
     "duration": 1.471931,
     "end_time": "2021-08-20T14:15:00.683439",
     "exception": false,
     "start_time": "2021-08-20T14:14:59.211508",
     "status": "completed"
    },
    "tags": []
   },
   "outputs": [
    {
     "data": {
      "text/html": [
       "<div>\n",
       "<style scoped>\n",
       "    .dataframe tbody tr th:only-of-type {\n",
       "        vertical-align: middle;\n",
       "    }\n",
       "\n",
       "    .dataframe tbody tr th {\n",
       "        vertical-align: top;\n",
       "    }\n",
       "\n",
       "    .dataframe thead th {\n",
       "        text-align: right;\n",
       "    }\n",
       "</style>\n",
       "<table border=\"1\" class=\"dataframe\">\n",
       "  <thead>\n",
       "    <tr style=\"text-align: right;\">\n",
       "      <th></th>\n",
       "      <th>Correlation</th>\n",
       "    </tr>\n",
       "    <tr>\n",
       "      <th>Name</th>\n",
       "      <th></th>\n",
       "    </tr>\n",
       "  </thead>\n",
       "  <tbody>\n",
       "    <tr>\n",
       "      <th>Naruto</th>\n",
       "      <td>1.000000</td>\n",
       "    </tr>\n",
       "    <tr>\n",
       "      <th>Naruto: Shippuuden</th>\n",
       "      <td>0.689854</td>\n",
       "    </tr>\n",
       "    <tr>\n",
       "      <th>Naruto Movie 1: Dai Katsugeki!! Yuki Hime Shinobu Houjou Dattebayo!</th>\n",
       "      <td>0.606644</td>\n",
       "    </tr>\n",
       "    <tr>\n",
       "      <th>Naruto Movie 3: Dai Koufun! Mikazuki Jima no Animaru Panikku Dattebayo!</th>\n",
       "      <td>0.590134</td>\n",
       "    </tr>\n",
       "    <tr>\n",
       "      <th>Naruto: Shippuuden Movie 1</th>\n",
       "      <td>0.589966</td>\n",
       "    </tr>\n",
       "    <tr>\n",
       "      <th>Naruto Movie 2: Dai Gekitotsu! Maboroshi no Chiteiiseki Dattebayo!</th>\n",
       "      <td>0.584434</td>\n",
       "    </tr>\n",
       "    <tr>\n",
       "      <th>Bleach</th>\n",
       "      <td>0.578348</td>\n",
       "    </tr>\n",
       "    <tr>\n",
       "      <th>Naruto: Shippuuden Movie 2 - Kizuna</th>\n",
       "      <td>0.575799</td>\n",
       "    </tr>\n",
       "    <tr>\n",
       "      <th>Naruto: Shippuuden Movie 3 - Hi no Ishi wo Tsugu Mono</th>\n",
       "      <td>0.572307</td>\n",
       "    </tr>\n",
       "    <tr>\n",
       "      <th>Naruto: Shippuuden Movie 5 - Blood Prison</th>\n",
       "      <td>0.546552</td>\n",
       "    </tr>\n",
       "    <tr>\n",
       "      <th>Naruto: Shippuuden Movie 4 - The Lost Tower</th>\n",
       "      <td>0.542810</td>\n",
       "    </tr>\n",
       "    <tr>\n",
       "      <th>Naruto: Shippuuden Movie 6 - Road to Ninja</th>\n",
       "      <td>0.537367</td>\n",
       "    </tr>\n",
       "    <tr>\n",
       "      <th>Boruto: Naruto the Movie</th>\n",
       "      <td>0.511685</td>\n",
       "    </tr>\n",
       "    <tr>\n",
       "      <th>Dragon Ball Z</th>\n",
       "      <td>0.508305</td>\n",
       "    </tr>\n",
       "    <tr>\n",
       "      <th>The Last: Naruto the Movie</th>\n",
       "      <td>0.504433</td>\n",
       "    </tr>\n",
       "    <tr>\n",
       "      <th>InuYasha</th>\n",
       "      <td>0.494023</td>\n",
       "    </tr>\n",
       "    <tr>\n",
       "      <th>Dragon Ball GT</th>\n",
       "      <td>0.486466</td>\n",
       "    </tr>\n",
       "    <tr>\n",
       "      <th>Yu☆Gi☆Oh! Duel Monsters</th>\n",
       "      <td>0.482021</td>\n",
       "    </tr>\n",
       "    <tr>\n",
       "      <th>Bleach Movie 2: The DiamondDust Rebellion - Mou Hitotsu no Hyourinmaru</th>\n",
       "      <td>0.481583</td>\n",
       "    </tr>\n",
       "    <tr>\n",
       "      <th>Fairy Tail</th>\n",
       "      <td>0.478835</td>\n",
       "    </tr>\n",
       "  </tbody>\n",
       "</table>\n",
       "</div>"
      ],
      "text/plain": [
       "                                                    Correlation\n",
       "Name                                                           \n",
       "Naruto                                                 1.000000\n",
       "Naruto: Shippuuden                                     0.689854\n",
       "Naruto Movie 1: Dai Katsugeki!! Yuki Hime Shino...     0.606644\n",
       "Naruto Movie 3: Dai Koufun! Mikazuki Jima no An...     0.590134\n",
       "Naruto: Shippuuden Movie 1                             0.589966\n",
       "Naruto Movie 2: Dai Gekitotsu! Maboroshi no Chi...     0.584434\n",
       "Bleach                                                 0.578348\n",
       "Naruto: Shippuuden Movie 2 - Kizuna                    0.575799\n",
       "Naruto: Shippuuden Movie 3 - Hi no Ishi wo Tsug...     0.572307\n",
       "Naruto: Shippuuden Movie 5 - Blood Prison              0.546552\n",
       "Naruto: Shippuuden Movie 4 - The Lost Tower            0.542810\n",
       "Naruto: Shippuuden Movie 6 - Road to Ninja             0.537367\n",
       "Boruto: Naruto the Movie                               0.511685\n",
       "Dragon Ball Z                                          0.508305\n",
       "The Last: Naruto the Movie                             0.504433\n",
       "InuYasha                                               0.494023\n",
       "Dragon Ball GT                                         0.486466\n",
       "Yu☆Gi☆Oh! Duel Monsters                                0.482021\n",
       "Bleach Movie 2: The DiamondDust Rebellion - Mou...     0.481583\n",
       "Fairy Tail                                             0.478835"
      ]
     },
     "execution_count": 28,
     "metadata": {},
     "output_type": "execute_result"
    }
   ],
   "source": [
    "# Let's choose an anime\n",
    "anime1 = 'Naruto'\n",
    "\n",
    "# Let's try with \"Death Note\"\n",
    "\n",
    "# Recommendations\n",
    "find_corr(df_recom, anime1).head(20)"
   ]
  },
  {
   "cell_type": "markdown",
   "id": "e981aca2",
   "metadata": {
    "papermill": {
     "duration": 0.044383,
     "end_time": "2021-08-20T14:15:00.773103",
     "exception": false,
     "start_time": "2021-08-20T14:15:00.728720",
     "status": "completed"
    },
    "tags": []
   },
   "source": [
    "* ### Not Recommended"
   ]
  },
  {
   "cell_type": "code",
   "execution_count": 29,
   "id": "638a2ded",
   "metadata": {
    "execution": {
     "iopub.execute_input": "2021-08-20T14:15:00.869079Z",
     "iopub.status.busy": "2021-08-20T14:15:00.868084Z",
     "iopub.status.idle": "2021-08-20T14:15:02.281026Z",
     "shell.execute_reply": "2021-08-20T14:15:02.281519Z",
     "shell.execute_reply.started": "2021-08-20T14:10:02.670253Z"
    },
    "papermill": {
     "duration": 1.4637,
     "end_time": "2021-08-20T14:15:02.281697",
     "exception": false,
     "start_time": "2021-08-20T14:15:00.817997",
     "status": "completed"
    },
    "tags": []
   },
   "outputs": [
    {
     "data": {
      "text/html": [
       "<div>\n",
       "<style scoped>\n",
       "    .dataframe tbody tr th:only-of-type {\n",
       "        vertical-align: middle;\n",
       "    }\n",
       "\n",
       "    .dataframe tbody tr th {\n",
       "        vertical-align: top;\n",
       "    }\n",
       "\n",
       "    .dataframe thead th {\n",
       "        text-align: right;\n",
       "    }\n",
       "</style>\n",
       "<table border=\"1\" class=\"dataframe\">\n",
       "  <thead>\n",
       "    <tr style=\"text-align: right;\">\n",
       "      <th></th>\n",
       "      <th>Correlation</th>\n",
       "    </tr>\n",
       "    <tr>\n",
       "      <th>Name</th>\n",
       "      <th></th>\n",
       "    </tr>\n",
       "  </thead>\n",
       "  <tbody>\n",
       "    <tr>\n",
       "      <th>Koukaku Kidoutai</th>\n",
       "      <td>0.075269</td>\n",
       "    </tr>\n",
       "    <tr>\n",
       "      <th>Kino no Tabi: The Beautiful World</th>\n",
       "      <td>0.069755</td>\n",
       "    </tr>\n",
       "    <tr>\n",
       "      <th>Neon Genesis Evangelion: The End of Evangelion</th>\n",
       "      <td>0.067229</td>\n",
       "    </tr>\n",
       "    <tr>\n",
       "      <th>FLCL</th>\n",
       "      <td>0.066720</td>\n",
       "    </tr>\n",
       "    <tr>\n",
       "      <th>Mousou Dairinin</th>\n",
       "      <td>0.063287</td>\n",
       "    </tr>\n",
       "    <tr>\n",
       "      <th>Perfect Blue</th>\n",
       "      <td>0.056507</td>\n",
       "    </tr>\n",
       "    <tr>\n",
       "      <th>Ping Pong the Animation</th>\n",
       "      <td>0.044290</td>\n",
       "    </tr>\n",
       "    <tr>\n",
       "      <th>Haibane Renmei</th>\n",
       "      <td>0.018723</td>\n",
       "    </tr>\n",
       "    <tr>\n",
       "      <th>Serial Experiments Lain</th>\n",
       "      <td>-0.004400</td>\n",
       "    </tr>\n",
       "    <tr>\n",
       "      <th>Yojouhan Shinwa Taikei</th>\n",
       "      <td>-0.044903</td>\n",
       "    </tr>\n",
       "  </tbody>\n",
       "</table>\n",
       "</div>"
      ],
      "text/plain": [
       "                                                Correlation\n",
       "Name                                                       \n",
       "Koukaku Kidoutai                                   0.075269\n",
       "Kino no Tabi: The Beautiful World                  0.069755\n",
       "Neon Genesis Evangelion: The End of Evangelion     0.067229\n",
       "FLCL                                               0.066720\n",
       "Mousou Dairinin                                    0.063287\n",
       "Perfect Blue                                       0.056507\n",
       "Ping Pong the Animation                            0.044290\n",
       "Haibane Renmei                                     0.018723\n",
       "Serial Experiments Lain                           -0.004400\n",
       "Yojouhan Shinwa Taikei                            -0.044903"
      ]
     },
     "execution_count": 29,
     "metadata": {},
     "output_type": "execute_result"
    }
   ],
   "source": [
    "find_corr(df_recom, anime1).tail(10)"
   ]
  },
  {
   "cell_type": "code",
   "execution_count": null,
   "id": "3e24cb0f",
   "metadata": {
    "execution": {
     "iopub.execute_input": "2021-08-20T14:10:05.356700Z",
     "iopub.status.busy": "2021-08-20T14:10:05.356141Z",
     "iopub.status.idle": "2021-08-20T14:10:05.360911Z",
     "shell.execute_reply": "2021-08-20T14:10:05.360008Z",
     "shell.execute_reply.started": "2021-08-20T14:10:05.356651Z"
    },
    "papermill": {
     "duration": 0.044597,
     "end_time": "2021-08-20T14:15:02.371355",
     "exception": false,
     "start_time": "2021-08-20T14:15:02.326758",
     "status": "completed"
    },
    "tags": []
   },
   "outputs": [],
   "source": []
  }
 ],
 "metadata": {
  "kernelspec": {
   "display_name": "Python 3",
   "language": "python",
   "name": "python3"
  },
  "language_info": {
   "codemirror_mode": {
    "name": "ipython",
    "version": 3
   },
   "file_extension": ".py",
   "mimetype": "text/x-python",
   "name": "python",
   "nbconvert_exporter": "python",
   "pygments_lexer": "ipython3",
   "version": "3.7.10"
  },
  "papermill": {
   "default_parameters": {},
   "duration": 261.827756,
   "end_time": "2021-08-20T14:15:04.503280",
   "environment_variables": {},
   "exception": null,
   "input_path": "__notebook__.ipynb",
   "output_path": "__notebook__.ipynb",
   "parameters": {},
   "start_time": "2021-08-20T14:10:42.675524",
   "version": "2.3.3"
  }
 },
 "nbformat": 4,
 "nbformat_minor": 5
}
